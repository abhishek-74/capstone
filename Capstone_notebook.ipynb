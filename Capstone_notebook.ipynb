{
  "cells": [
    {
      "cell_type": "code",
      "execution_count": 1,
      "metadata": {
        "id": "YO9d5TFyGS7D",
        "colab": {
          "base_uri": "https://localhost:8080/"
        },
        "outputId": "05f9c621-f64f-45bf-bee2-b71d23cfded3"
      },
      "outputs": [
        {
          "output_type": "stream",
          "name": "stdout",
          "text": [
            "Requirement already satisfied: nltk==3.2.5 in /usr/local/lib/python3.7/dist-packages (3.2.5)\n",
            "Requirement already satisfied: six in /usr/local/lib/python3.7/dist-packages (from nltk==3.2.5) (1.15.0)\n",
            "/usr/lib/python3.7/runpy.py:125: RuntimeWarning: 'nltk.downloader' found in sys.modules after import of package 'nltk', but prior to execution of 'nltk.downloader'; this may result in unpredictable behaviour\n",
            "  warn(RuntimeWarning(msg))\n",
            "[nltk_data] Downloading package stopwords to /root/nltk_data...\n",
            "[nltk_data]   Package stopwords is already up-to-date!\n",
            "/usr/lib/python3.7/runpy.py:125: RuntimeWarning: 'nltk.downloader' found in sys.modules after import of package 'nltk', but prior to execution of 'nltk.downloader'; this may result in unpredictable behaviour\n",
            "  warn(RuntimeWarning(msg))\n",
            "[nltk_data] Downloading package punkt to /root/nltk_data...\n",
            "[nltk_data]   Package punkt is already up-to-date!\n",
            "/usr/lib/python3.7/runpy.py:125: RuntimeWarning: 'nltk.downloader' found in sys.modules after import of package 'nltk', but prior to execution of 'nltk.downloader'; this may result in unpredictable behaviour\n",
            "  warn(RuntimeWarning(msg))\n",
            "[nltk_data] Downloading package wordnet to /root/nltk_data...\n",
            "[nltk_data]   Package wordnet is already up-to-date!\n",
            "Requirement already satisfied: imbalanced-learn==0.8.1 in /usr/local/lib/python3.7/dist-packages (0.8.1)\n",
            "Requirement already satisfied: numpy>=1.13.3 in /usr/local/lib/python3.7/dist-packages (from imbalanced-learn==0.8.1) (1.21.5)\n",
            "Requirement already satisfied: scikit-learn>=0.24 in /usr/local/lib/python3.7/dist-packages (from imbalanced-learn==0.8.1) (1.0.2)\n",
            "Requirement already satisfied: scipy>=0.19.1 in /usr/local/lib/python3.7/dist-packages (from imbalanced-learn==0.8.1) (1.4.1)\n",
            "Requirement already satisfied: joblib>=0.11 in /usr/local/lib/python3.7/dist-packages (from imbalanced-learn==0.8.1) (1.1.0)\n",
            "Requirement already satisfied: threadpoolctl>=2.0.0 in /usr/local/lib/python3.7/dist-packages (from scikit-learn>=0.24->imbalanced-learn==0.8.1) (3.1.0)\n",
            "Requirement already satisfied: pandas==1.3.5 in /usr/local/lib/python3.7/dist-packages (1.3.5)\n",
            "Requirement already satisfied: pytz>=2017.3 in /usr/local/lib/python3.7/dist-packages (from pandas==1.3.5) (2018.9)\n",
            "Requirement already satisfied: python-dateutil>=2.7.3 in /usr/local/lib/python3.7/dist-packages (from pandas==1.3.5) (2.8.2)\n",
            "Requirement already satisfied: numpy>=1.17.3 in /usr/local/lib/python3.7/dist-packages (from pandas==1.3.5) (1.21.5)\n",
            "Requirement already satisfied: six>=1.5 in /usr/local/lib/python3.7/dist-packages (from python-dateutil>=2.7.3->pandas==1.3.5) (1.15.0)\n",
            "Requirement already satisfied: matplotlib==3.2.2 in /usr/local/lib/python3.7/dist-packages (3.2.2)\n",
            "Requirement already satisfied: kiwisolver>=1.0.1 in /usr/local/lib/python3.7/dist-packages (from matplotlib==3.2.2) (1.3.2)\n",
            "Requirement already satisfied: pyparsing!=2.0.4,!=2.1.2,!=2.1.6,>=2.0.1 in /usr/local/lib/python3.7/dist-packages (from matplotlib==3.2.2) (3.0.7)\n",
            "Requirement already satisfied: python-dateutil>=2.1 in /usr/local/lib/python3.7/dist-packages (from matplotlib==3.2.2) (2.8.2)\n",
            "Requirement already satisfied: cycler>=0.10 in /usr/local/lib/python3.7/dist-packages (from matplotlib==3.2.2) (0.11.0)\n",
            "Requirement already satisfied: numpy>=1.11 in /usr/local/lib/python3.7/dist-packages (from matplotlib==3.2.2) (1.21.5)\n",
            "Requirement already satisfied: six>=1.5 in /usr/local/lib/python3.7/dist-packages (from python-dateutil>=2.1->matplotlib==3.2.2) (1.15.0)\n",
            "Requirement already satisfied: seaborn==0.11.2 in /usr/local/lib/python3.7/dist-packages (0.11.2)\n",
            "Requirement already satisfied: scipy>=1.0 in /usr/local/lib/python3.7/dist-packages (from seaborn==0.11.2) (1.4.1)\n",
            "Requirement already satisfied: numpy>=1.15 in /usr/local/lib/python3.7/dist-packages (from seaborn==0.11.2) (1.21.5)\n",
            "Requirement already satisfied: pandas>=0.23 in /usr/local/lib/python3.7/dist-packages (from seaborn==0.11.2) (1.3.5)\n",
            "Requirement already satisfied: matplotlib>=2.2 in /usr/local/lib/python3.7/dist-packages (from seaborn==0.11.2) (3.2.2)\n",
            "Requirement already satisfied: kiwisolver>=1.0.1 in /usr/local/lib/python3.7/dist-packages (from matplotlib>=2.2->seaborn==0.11.2) (1.3.2)\n",
            "Requirement already satisfied: cycler>=0.10 in /usr/local/lib/python3.7/dist-packages (from matplotlib>=2.2->seaborn==0.11.2) (0.11.0)\n",
            "Requirement already satisfied: pyparsing!=2.0.4,!=2.1.2,!=2.1.6,>=2.0.1 in /usr/local/lib/python3.7/dist-packages (from matplotlib>=2.2->seaborn==0.11.2) (3.0.7)\n",
            "Requirement already satisfied: python-dateutil>=2.1 in /usr/local/lib/python3.7/dist-packages (from matplotlib>=2.2->seaborn==0.11.2) (2.8.2)\n",
            "Requirement already satisfied: pytz>=2017.3 in /usr/local/lib/python3.7/dist-packages (from pandas>=0.23->seaborn==0.11.2) (2018.9)\n",
            "Requirement already satisfied: six>=1.5 in /usr/local/lib/python3.7/dist-packages (from python-dateutil>=2.1->matplotlib>=2.2->seaborn==0.11.2) (1.15.0)\n",
            "Requirement already satisfied: scikit-learn==1.0.2 in /usr/local/lib/python3.7/dist-packages (1.0.2)\n",
            "Requirement already satisfied: scipy>=1.1.0 in /usr/local/lib/python3.7/dist-packages (from scikit-learn==1.0.2) (1.4.1)\n",
            "Requirement already satisfied: joblib>=0.11 in /usr/local/lib/python3.7/dist-packages (from scikit-learn==1.0.2) (1.1.0)\n",
            "Requirement already satisfied: numpy>=1.14.6 in /usr/local/lib/python3.7/dist-packages (from scikit-learn==1.0.2) (1.21.5)\n",
            "Requirement already satisfied: threadpoolctl>=2.0.0 in /usr/local/lib/python3.7/dist-packages (from scikit-learn==1.0.2) (3.1.0)\n",
            "Requirement already satisfied: tensorflow==2.8.0 in /usr/local/lib/python3.7/dist-packages (2.8.0)\n",
            "Requirement already satisfied: protobuf>=3.9.2 in /usr/local/lib/python3.7/dist-packages (from tensorflow==2.8.0) (3.17.3)\n",
            "Requirement already satisfied: typing-extensions>=3.6.6 in /usr/local/lib/python3.7/dist-packages (from tensorflow==2.8.0) (3.10.0.2)\n",
            "Requirement already satisfied: h5py>=2.9.0 in /usr/local/lib/python3.7/dist-packages (from tensorflow==2.8.0) (3.1.0)\n",
            "Requirement already satisfied: google-pasta>=0.1.1 in /usr/local/lib/python3.7/dist-packages (from tensorflow==2.8.0) (0.2.0)\n",
            "Requirement already satisfied: keras<2.9,>=2.8.0rc0 in /usr/local/lib/python3.7/dist-packages (from tensorflow==2.8.0) (2.8.0)\n",
            "Requirement already satisfied: setuptools in /usr/local/lib/python3.7/dist-packages (from tensorflow==2.8.0) (57.4.0)\n",
            "Requirement already satisfied: six>=1.12.0 in /usr/local/lib/python3.7/dist-packages (from tensorflow==2.8.0) (1.15.0)\n",
            "Requirement already satisfied: tensorboard<2.9,>=2.8 in /usr/local/lib/python3.7/dist-packages (from tensorflow==2.8.0) (2.8.0)\n",
            "Requirement already satisfied: grpcio<2.0,>=1.24.3 in /usr/local/lib/python3.7/dist-packages (from tensorflow==2.8.0) (1.44.0)\n",
            "Requirement already satisfied: astunparse>=1.6.0 in /usr/local/lib/python3.7/dist-packages (from tensorflow==2.8.0) (1.6.3)\n",
            "Requirement already satisfied: keras-preprocessing>=1.1.1 in /usr/local/lib/python3.7/dist-packages (from tensorflow==2.8.0) (1.1.2)\n",
            "Requirement already satisfied: tensorflow-io-gcs-filesystem>=0.23.1 in /usr/local/lib/python3.7/dist-packages (from tensorflow==2.8.0) (0.24.0)\n",
            "Requirement already satisfied: libclang>=9.0.1 in /usr/local/lib/python3.7/dist-packages (from tensorflow==2.8.0) (13.0.0)\n",
            "Requirement already satisfied: gast>=0.2.1 in /usr/local/lib/python3.7/dist-packages (from tensorflow==2.8.0) (0.5.3)\n",
            "Requirement already satisfied: tf-estimator-nightly==2.8.0.dev2021122109 in /usr/local/lib/python3.7/dist-packages (from tensorflow==2.8.0) (2.8.0.dev2021122109)\n",
            "Requirement already satisfied: opt-einsum>=2.3.2 in /usr/local/lib/python3.7/dist-packages (from tensorflow==2.8.0) (3.3.0)\n",
            "Requirement already satisfied: flatbuffers>=1.12 in /usr/local/lib/python3.7/dist-packages (from tensorflow==2.8.0) (2.0)\n",
            "Requirement already satisfied: numpy>=1.20 in /usr/local/lib/python3.7/dist-packages (from tensorflow==2.8.0) (1.21.5)\n",
            "Requirement already satisfied: absl-py>=0.4.0 in /usr/local/lib/python3.7/dist-packages (from tensorflow==2.8.0) (1.0.0)\n",
            "Requirement already satisfied: wrapt>=1.11.0 in /usr/local/lib/python3.7/dist-packages (from tensorflow==2.8.0) (1.13.3)\n",
            "Requirement already satisfied: termcolor>=1.1.0 in /usr/local/lib/python3.7/dist-packages (from tensorflow==2.8.0) (1.1.0)\n",
            "Requirement already satisfied: wheel<1.0,>=0.23.0 in /usr/local/lib/python3.7/dist-packages (from astunparse>=1.6.0->tensorflow==2.8.0) (0.37.1)\n",
            "Requirement already satisfied: cached-property in /usr/local/lib/python3.7/dist-packages (from h5py>=2.9.0->tensorflow==2.8.0) (1.5.2)\n",
            "Requirement already satisfied: tensorboard-data-server<0.7.0,>=0.6.0 in /usr/local/lib/python3.7/dist-packages (from tensorboard<2.9,>=2.8->tensorflow==2.8.0) (0.6.1)\n",
            "Requirement already satisfied: google-auth-oauthlib<0.5,>=0.4.1 in /usr/local/lib/python3.7/dist-packages (from tensorboard<2.9,>=2.8->tensorflow==2.8.0) (0.4.6)\n",
            "Requirement already satisfied: tensorboard-plugin-wit>=1.6.0 in /usr/local/lib/python3.7/dist-packages (from tensorboard<2.9,>=2.8->tensorflow==2.8.0) (1.8.1)\n",
            "Requirement already satisfied: google-auth<3,>=1.6.3 in /usr/local/lib/python3.7/dist-packages (from tensorboard<2.9,>=2.8->tensorflow==2.8.0) (1.35.0)\n",
            "Requirement already satisfied: werkzeug>=0.11.15 in /usr/local/lib/python3.7/dist-packages (from tensorboard<2.9,>=2.8->tensorflow==2.8.0) (1.0.1)\n",
            "Requirement already satisfied: markdown>=2.6.8 in /usr/local/lib/python3.7/dist-packages (from tensorboard<2.9,>=2.8->tensorflow==2.8.0) (3.3.6)\n",
            "Requirement already satisfied: requests<3,>=2.21.0 in /usr/local/lib/python3.7/dist-packages (from tensorboard<2.9,>=2.8->tensorflow==2.8.0) (2.23.0)\n",
            "Requirement already satisfied: cachetools<5.0,>=2.0.0 in /usr/local/lib/python3.7/dist-packages (from google-auth<3,>=1.6.3->tensorboard<2.9,>=2.8->tensorflow==2.8.0) (4.2.4)\n",
            "Requirement already satisfied: rsa<5,>=3.1.4 in /usr/local/lib/python3.7/dist-packages (from google-auth<3,>=1.6.3->tensorboard<2.9,>=2.8->tensorflow==2.8.0) (4.8)\n",
            "Requirement already satisfied: pyasn1-modules>=0.2.1 in /usr/local/lib/python3.7/dist-packages (from google-auth<3,>=1.6.3->tensorboard<2.9,>=2.8->tensorflow==2.8.0) (0.2.8)\n",
            "Requirement already satisfied: requests-oauthlib>=0.7.0 in /usr/local/lib/python3.7/dist-packages (from google-auth-oauthlib<0.5,>=0.4.1->tensorboard<2.9,>=2.8->tensorflow==2.8.0) (1.3.1)\n",
            "Requirement already satisfied: importlib-metadata>=4.4 in /usr/local/lib/python3.7/dist-packages (from markdown>=2.6.8->tensorboard<2.9,>=2.8->tensorflow==2.8.0) (4.11.2)\n",
            "Requirement already satisfied: zipp>=0.5 in /usr/local/lib/python3.7/dist-packages (from importlib-metadata>=4.4->markdown>=2.6.8->tensorboard<2.9,>=2.8->tensorflow==2.8.0) (3.7.0)\n",
            "Requirement already satisfied: pyasn1<0.5.0,>=0.4.6 in /usr/local/lib/python3.7/dist-packages (from pyasn1-modules>=0.2.1->google-auth<3,>=1.6.3->tensorboard<2.9,>=2.8->tensorflow==2.8.0) (0.4.8)\n",
            "Requirement already satisfied: chardet<4,>=3.0.2 in /usr/local/lib/python3.7/dist-packages (from requests<3,>=2.21.0->tensorboard<2.9,>=2.8->tensorflow==2.8.0) (3.0.4)\n",
            "Requirement already satisfied: certifi>=2017.4.17 in /usr/local/lib/python3.7/dist-packages (from requests<3,>=2.21.0->tensorboard<2.9,>=2.8->tensorflow==2.8.0) (2021.10.8)\n",
            "Requirement already satisfied: urllib3!=1.25.0,!=1.25.1,<1.26,>=1.21.1 in /usr/local/lib/python3.7/dist-packages (from requests<3,>=2.21.0->tensorboard<2.9,>=2.8->tensorflow==2.8.0) (1.24.3)\n",
            "Requirement already satisfied: idna<3,>=2.5 in /usr/local/lib/python3.7/dist-packages (from requests<3,>=2.21.0->tensorboard<2.9,>=2.8->tensorflow==2.8.0) (2.10)\n",
            "Requirement already satisfied: oauthlib>=3.0.0 in /usr/local/lib/python3.7/dist-packages (from requests-oauthlib>=0.7.0->google-auth-oauthlib<0.5,>=0.4.1->tensorboard<2.9,>=2.8->tensorflow==2.8.0) (3.2.0)\n"
          ]
        }
      ],
      "source": [
        "# install required packages\n",
        "!pip install nltk==3.2.5\n",
        "!python -m nltk.downloader stopwords\n",
        "!python -m nltk.downloader punkt\n",
        "!python -m nltk.downloader wordnet\n",
        "!pip install imbalanced-learn==0.8.1\n",
        "!pip install pandas==1.3.5\n",
        "!pip install matplotlib==3.2.2\n",
        "!pip install seaborn==0.11.2\n",
        "!pip install scikit-learn==1.0.2\n",
        "!pip install tensorflow==2.8.0\n"
      ]
    },
    {
      "cell_type": "code",
      "execution_count": 2,
      "metadata": {
        "colab": {
          "base_uri": "https://localhost:8080/"
        },
        "id": "k2lZG2EhG5Gs",
        "outputId": "382ad6a3-4bbb-4ac8-dce0-a6eb9b17e5c1"
      },
      "outputs": [
        {
          "output_type": "stream",
          "name": "stdout",
          "text": [
            "[nltk_data] Downloading package punkt to /root/nltk_data...\n",
            "[nltk_data]   Package punkt is already up-to-date!\n",
            "[nltk_data] Downloading package wordnet to /root/nltk_data...\n",
            "[nltk_data]   Package wordnet is already up-to-date!\n"
          ]
        }
      ],
      "source": [
        "# import required packages\n",
        "import pandas as pd\n",
        "import matplotlib.pyplot as plt\n",
        "import numpy as np\n",
        "import nltk\n",
        "import re\n",
        "nltk.download(\"punkt\")\n",
        "nltk.download('wordnet')\n",
        "from nltk.corpus import stopwords\n",
        "from nltk.stem import PorterStemmer\n",
        "from nltk.stem import WordNetLemmatizer \n",
        "from nltk.tokenize import sent_tokenize\n",
        "from sklearn.model_selection import train_test_split\n",
        "from sklearn.feature_extraction.text import TfidfVectorizer\n",
        "from sklearn.model_selection import GridSearchCV\n",
        "from sklearn.linear_model import LogisticRegression\n",
        "from sklearn.naive_bayes import MultinomialNB\n",
        "from sklearn import metrics\n",
        "from sklearn.ensemble import RandomForestClassifier\n",
        "from sklearn.model_selection import RandomizedSearchCV\n",
        "%tensorflow_version 2.x\n",
        "import tensorflow as tf\n",
        "from tensorflow.keras.preprocessing.text import Tokenizer\n",
        "from tensorflow.keras.preprocessing.sequence import pad_sequences\n",
        "import warnings\n",
        "warnings.filterwarnings('ignore')"
      ]
    },
    {
      "cell_type": "code",
      "execution_count": 3,
      "metadata": {
        "colab": {
          "base_uri": "https://localhost:8080/"
        },
        "id": "GXZBdNeKRYlK",
        "outputId": "270b6dc6-dea1-4120-ff57-770b2bcdbba2"
      },
      "outputs": [
        {
          "output_type": "stream",
          "name": "stdout",
          "text": [
            "Drive already mounted at /content/drive; to attempt to forcibly remount, call drive.mount(\"/content/drive\", force_remount=True).\n"
          ]
        }
      ],
      "source": [
        "# mounting google drive to read data\n",
        "from google.colab import drive\n",
        "drive.mount('/content/drive')"
      ]
    },
    {
      "cell_type": "code",
      "execution_count": 4,
      "metadata": {
        "id": "wDBXb2aKGm8c"
      },
      "outputs": [],
      "source": [
        "pd_data = pd.read_csv(\"/content/drive/MyDrive/sample30.csv\")"
      ]
    },
    {
      "cell_type": "markdown",
      "metadata": {
        "id": "M2EAeqK4IRHM"
      },
      "source": [
        "## **EDA for data-**\n",
        "1. Inspect the provided dataset for given columns, identify columns of interest\n",
        "2. Check for missing values in columns and impute where possible\n",
        "3. Graphs to understand data distributions"
      ]
    },
    {
      "cell_type": "code",
      "execution_count": 5,
      "metadata": {
        "colab": {
          "base_uri": "https://localhost:8080/"
        },
        "id": "MdiR0oBDJEK5",
        "outputId": "6ab24b3d-f6d2-41bc-a4ad-85166b1b8441"
      },
      "outputs": [
        {
          "output_type": "stream",
          "name": "stdout",
          "text": [
            "<class 'pandas.core.frame.DataFrame'>\n",
            "RangeIndex: 30000 entries, 0 to 29999\n",
            "Data columns (total 15 columns):\n",
            " #   Column                Non-Null Count  Dtype \n",
            "---  ------                --------------  ----- \n",
            " 0   id                    30000 non-null  object\n",
            " 1   brand                 30000 non-null  object\n",
            " 2   categories            30000 non-null  object\n",
            " 3   manufacturer          29859 non-null  object\n",
            " 4   name                  30000 non-null  object\n",
            " 5   reviews_date          29954 non-null  object\n",
            " 6   reviews_didPurchase   15932 non-null  object\n",
            " 7   reviews_doRecommend   27430 non-null  object\n",
            " 8   reviews_rating        30000 non-null  int64 \n",
            " 9   reviews_text          30000 non-null  object\n",
            " 10  reviews_title         29810 non-null  object\n",
            " 11  reviews_userCity      1929 non-null   object\n",
            " 12  reviews_userProvince  170 non-null    object\n",
            " 13  reviews_username      29937 non-null  object\n",
            " 14  user_sentiment        29999 non-null  object\n",
            "dtypes: int64(1), object(14)\n",
            "memory usage: 3.4+ MB\n"
          ]
        }
      ],
      "source": [
        "pd_data.info()"
      ]
    },
    {
      "cell_type": "code",
      "source": [
        "# selecting columns of interest for sentiment analysis and recommendation system\n",
        "pd_data = pd_data[['id', 'name', 'reviews_rating', 'reviews_text', 'reviews_title', 'reviews_username', 'user_sentiment']]\n",
        "pd_data.info()"
      ],
      "metadata": {
        "colab": {
          "base_uri": "https://localhost:8080/"
        },
        "id": "UhfZhgRzj3XM",
        "outputId": "12b45eb9-ad94-40a1-a268-7bb76c02521a"
      },
      "execution_count": 6,
      "outputs": [
        {
          "output_type": "stream",
          "name": "stdout",
          "text": [
            "<class 'pandas.core.frame.DataFrame'>\n",
            "RangeIndex: 30000 entries, 0 to 29999\n",
            "Data columns (total 7 columns):\n",
            " #   Column            Non-Null Count  Dtype \n",
            "---  ------            --------------  ----- \n",
            " 0   id                30000 non-null  object\n",
            " 1   name              30000 non-null  object\n",
            " 2   reviews_rating    30000 non-null  int64 \n",
            " 3   reviews_text      30000 non-null  object\n",
            " 4   reviews_title     29810 non-null  object\n",
            " 5   reviews_username  29937 non-null  object\n",
            " 6   user_sentiment    29999 non-null  object\n",
            "dtypes: int64(1), object(6)\n",
            "memory usage: 1.6+ MB\n"
          ]
        }
      ]
    },
    {
      "cell_type": "code",
      "source": [
        "# observations-\n",
        "# 1. product id, product name and reviews ratings are available for all the rows\n",
        "# 2. For sentiment analysis, we may drop the only row with missing user sentiment since the count is only 1\n",
        "# 3. For recommendation system, we may drop rows where username is missing or if there are any duplicates on user, productid and reviews rating\n",
        "# 4. reviews_title is missing for 190 rows, we may impute it with blank string\n",
        "\n",
        "pd_sentiment = pd_data[['reviews_text', 'reviews_title', 'user_sentiment']]\n",
        "pd_recommendation = pd_data[['id', 'reviews_rating', 'reviews_username']]"
      ],
      "metadata": {
        "id": "dhPq-PE_kakj"
      },
      "execution_count": 7,
      "outputs": []
    },
    {
      "cell_type": "markdown",
      "source": [
        "### EDA for data for sentiment analysis"
      ],
      "metadata": {
        "id": "42FBs6fI_OiD"
      }
    },
    {
      "cell_type": "code",
      "source": [
        "print(pd_sentiment.info())\n",
        "\n",
        "print(\"filling missing values for reviews_text with blank string\\n\")\n",
        "pd_sentiment.reviews_title.fillna(\"\", inplace=True)\n",
        "\n",
        "print(\"removing row with missing user sentiment\\n\")\n",
        "pd_sentiment.dropna(inplace=True)\n",
        "\n",
        "print(\"dataframe after cleaning and imputation\\n\")\n",
        "print(pd_sentiment.info())\n",
        "\n",
        "\n",
        "#     Visualise the data according to the 'reviews_text' character length\n",
        "#     Using a word cloud to see top frequency words among all the reviews\n",
        "#     display the top trigrams in reviews text\n",
        "\n",
        "pd_sentiment_len = pd_sentiment.copy()\n",
        "pd_sentiment_len['reviews_text_len'] = pd_sentiment_len.reviews_text.apply(lambda x: len(x))\n",
        "pd_sentiment_len['color'] = pd_sentiment_len.user_sentiment.apply(lambda x: 'green' if x == 'Positive' else 'red')\n",
        "\n",
        "pd_sentiment_len = pd_sentiment_len.sort_values(['reviews_text_len']).reset_index()\n",
        "_ = pd_sentiment_len.pop('index')\n",
        "pd_sentiment_len.head()\n",
        "plt.bar(pd_sentiment_len.index, pd_sentiment_len.reviews_text_len, color=pd_sentiment_len.color)\n",
        "plt.title('Distribution of comments by text character length')\n",
        "plt.xlabel('review index')\n",
        "plt.ylabel('review character length')\n",
        "plt.ylim([0, 2000])\n",
        "plt.show()\n",
        "\n",
        "from wordcloud import WordCloud\n",
        "\n",
        "corpus = \" \". join(pd_sentiment.reviews_text.to_list())\n",
        "\n",
        "word_cloud = WordCloud(collocations = False, background_color = 'white').generate(corpus)\n",
        "\n",
        "plt.imshow(word_cloud, interpolation='bilinear')\n",
        "\n",
        "plt.axis(\"off\")\n",
        "plt.show()\n",
        "\n",
        "from sklearn.feature_extraction.text import CountVectorizer\n",
        "cv = CountVectorizer(ngram_range=(3, 3))   \n",
        "cv_fit = cv.fit_transform(pd_sentiment.reviews_text)    \n",
        "word_list = cv.get_feature_names()\n",
        "count_list = np.asarray(cv_fit.sum(axis=0))[0]\n",
        "\n",
        "dict_vocab = dict(zip(word_list, count_list))\n",
        "print()\n",
        "print(\"Top Trigrams in Text - \")\n",
        "print({k: v for k, v in sorted(dict_vocab.items(), key=lambda item: item[1], reverse=True)[:29]})"
      ],
      "metadata": {
        "colab": {
          "base_uri": "https://localhost:8080/",
          "height": 1000
        },
        "id": "6x7MgKPnmS5l",
        "outputId": "df06b9c7-de84-4581-ecb6-57283e6ff0a0"
      },
      "execution_count": 8,
      "outputs": [
        {
          "output_type": "stream",
          "name": "stdout",
          "text": [
            "<class 'pandas.core.frame.DataFrame'>\n",
            "RangeIndex: 30000 entries, 0 to 29999\n",
            "Data columns (total 3 columns):\n",
            " #   Column          Non-Null Count  Dtype \n",
            "---  ------          --------------  ----- \n",
            " 0   reviews_text    30000 non-null  object\n",
            " 1   reviews_title   29810 non-null  object\n",
            " 2   user_sentiment  29999 non-null  object\n",
            "dtypes: object(3)\n",
            "memory usage: 703.2+ KB\n",
            "None\n",
            "filling missing values for reviews_text with blank string\n",
            "\n",
            "removing row with missing user sentiment\n",
            "\n",
            "dataframe after cleaning and imputation\n",
            "\n",
            "<class 'pandas.core.frame.DataFrame'>\n",
            "Int64Index: 29999 entries, 0 to 29999\n",
            "Data columns (total 3 columns):\n",
            " #   Column          Non-Null Count  Dtype \n",
            "---  ------          --------------  ----- \n",
            " 0   reviews_text    29999 non-null  object\n",
            " 1   reviews_title   29999 non-null  object\n",
            " 2   user_sentiment  29999 non-null  object\n",
            "dtypes: object(3)\n",
            "memory usage: 937.5+ KB\n",
            "None\n"
          ]
        },
        {
          "output_type": "display_data",
          "data": {
            "image/png": "[encoded data removed]",
            "text/plain": [
              "<Figure size 432x288 with 1 Axes>"
            ]
          },
          "metadata": {
            "needs_background": "light"
          }
        },
        {
          "output_type": "display_data",
          "data": {
            "image/png": "[encoded data removed]",
            "text/plain": [
              "<Figure size 432x288 with 1 Axes>"
            ]
          },
          "metadata": {
            "needs_background": "light"
          }
        },
        {
          "output_type": "stream",
          "name": "stdout",
          "text": [
            "\n",
            "Top Trigrams in Text - \n",
            "{'as part of': 8778, 'this review was': 8744, 'collected as part': 8743, 'part of promotion': 8743, 'review was collected': 8743, 'was collected as': 8743, 'easy to use': 1261, 'love this product': 651, 'to use and': 582, 'this product for': 478, 'clorox disinfecting wipes': 473, 'all the time': 421, 'this is the': 409, 'have been using': 401, 'received this product': 400, 'this product is': 392, 'the old formula': 374, 'clorox wipes are': 358, 'to clean up': 355, 'for testing purposes': 354, 'in the kitchen': 353, 'and easy to': 342, 'one of the': 337, 'love these wipes': 332, 'so easy to': 327, 'is the best': 325, 'love clorox wipes': 323, 'are my own': 320, 'this is great': 317}\n"
          ]
        }
      ]
    },
    {
      "cell_type": "markdown",
      "source": [
        "Observations -\n",
        "1. There is no clear relation between text length and sentiment\n",
        "2. The string **\"this review was collected as part of promotion\"** is present in almost every review, and therefore would not be of any significance to the model, we may remove it from reviews_text"
      ],
      "metadata": {
        "id": "47ptd_gK7n3t"
      }
    },
    {
      "cell_type": "markdown",
      "source": [
        "### EDA for data for Recommendation system data"
      ],
      "metadata": {
        "id": "ugju2a5U_U0g"
      }
    },
    {
      "cell_type": "code",
      "source": [
        "#select columns of interest for recommendation system\n",
        "pd_recomm_data = pd_data[['reviews_username','reviews_rating','id']]"
      ],
      "metadata": {
        "id": "BFiagjn7_ZM9"
      },
      "execution_count": 9,
      "outputs": []
    },
    {
      "cell_type": "code",
      "source": [
        "print(pd_recomm_data.info())\n",
        "print()\n",
        "print(\"Removing rows where username is missing\")\n",
        "print()\n",
        "pd_recomm_data.dropna(inplace=True)\n",
        "print(\"Shape after data cleaning\")\n",
        "print(pd_recomm_data.shape)"
      ],
      "metadata": {
        "colab": {
          "base_uri": "https://localhost:8080/"
        },
        "id": "TrDZfjE4_ZKO",
        "outputId": "1501911c-0307-45d8-fc18-2172921b1d7e"
      },
      "execution_count": 10,
      "outputs": [
        {
          "output_type": "stream",
          "name": "stdout",
          "text": [
            "<class 'pandas.core.frame.DataFrame'>\n",
            "RangeIndex: 30000 entries, 0 to 29999\n",
            "Data columns (total 3 columns):\n",
            " #   Column            Non-Null Count  Dtype \n",
            "---  ------            --------------  ----- \n",
            " 0   reviews_username  29937 non-null  object\n",
            " 1   reviews_rating    30000 non-null  int64 \n",
            " 2   id                30000 non-null  object\n",
            "dtypes: int64(1), object(2)\n",
            "memory usage: 703.2+ KB\n",
            "None\n",
            "\n",
            "Removing rows where username is missing\n",
            "\n",
            "Shape after data cleaning\n",
            "(29937, 3)\n"
          ]
        }
      ]
    },
    {
      "cell_type": "code",
      "source": [
        "#check for any duplicates at username, product id level for reviews_rating\n",
        "print(pd_recomm_data.groupby(['id','reviews_username']).count().head())\n",
        "\n",
        "print(\"Certainly there are duplicates present, we may remove the duplicate ratings\")\n",
        "\n",
        "#remove if there are any duplicate rows in data\n",
        "print(\"Shape after duplicate removal\")\n",
        "pd_recomm_data.drop_duplicates(subset=['reviews_username', 'id'], keep='first', inplace=True)\n",
        "print(pd_recomm_data.shape)\n",
        "\n"
      ],
      "metadata": {
        "colab": {
          "base_uri": "https://localhost:8080/"
        },
        "id": "lytvoxtW_ZHW",
        "outputId": "3de5af46-4c46-4331-92c2-f3ea8b107268"
      },
      "execution_count": 11,
      "outputs": [
        {
          "output_type": "stream",
          "name": "stdout",
          "text": [
            "                                       reviews_rating\n",
            "id                   reviews_username                \n",
            "AV13O1A8GV-KLJ3akUyj joshua                         1\n",
            "AV14LG0R-jtxr-f38QfS dorothy w                      2\n",
            "AV16khLE-jtxr-f38VFn amanda                         1\n",
            "                     ashley a                       1\n",
            "                     beccagrl532                    1\n",
            "Certainly there are duplicates present, we may remove the duplicate ratings\n",
            "Shape after duplicate removal\n",
            "(27588, 3)\n"
          ]
        }
      ]
    },
    {
      "cell_type": "markdown",
      "source": [
        "**Now we have the two datsets ready for sentiment analysis and building recommendation engine, we will proceed to modeling phase**"
      ],
      "metadata": {
        "id": "xMD28kFLC4oT"
      }
    },
    {
      "cell_type": "markdown",
      "source": [
        "# Model for Sentiment Analysis"
      ],
      "metadata": {
        "id": "FGGkwtTlDG3X"
      }
    },
    {
      "cell_type": "code",
      "execution_count": 12,
      "metadata": {
        "id": "jGi3g9NdNQfy",
        "colab": {
          "base_uri": "https://localhost:8080/",
          "height": 206
        },
        "outputId": "9bee4389-c0d5-4f32-ecd3-c5704e3779d6"
      },
      "outputs": [
        {
          "output_type": "execute_result",
          "data": {
            "text/html": [
              "\n",
              "  <div id=\"df-3f5e5187-ec7b-40a9-b723-12c8023ac5a1\">\n",
              "    <div class=\"colab-df-container\">\n",
              "      <div>\n",
              "<style scoped>\n",
              "    .dataframe tbody tr th:only-of-type {\n",
              "        vertical-align: middle;\n",
              "    }\n",
              "\n",
              "    .dataframe tbody tr th {\n",
              "        vertical-align: top;\n",
              "    }\n",
              "\n",
              "    .dataframe thead th {\n",
              "        text-align: right;\n",
              "    }\n",
              "</style>\n",
              "<table border=\"1\" class=\"dataframe\">\n",
              "  <thead>\n",
              "    <tr style=\"text-align: right;\">\n",
              "      <th></th>\n",
              "      <th>reviews_text</th>\n",
              "      <th>reviews_title</th>\n",
              "      <th>user_sentiment</th>\n",
              "    </tr>\n",
              "  </thead>\n",
              "  <tbody>\n",
              "    <tr>\n",
              "      <th>0</th>\n",
              "      <td>i love this album. it's very good. more to the...</td>\n",
              "      <td>Just Awesome</td>\n",
              "      <td>Positive</td>\n",
              "    </tr>\n",
              "    <tr>\n",
              "      <th>1</th>\n",
              "      <td>Good flavor. .</td>\n",
              "      <td>Good</td>\n",
              "      <td>Positive</td>\n",
              "    </tr>\n",
              "    <tr>\n",
              "      <th>2</th>\n",
              "      <td>Good flavor.</td>\n",
              "      <td>Good</td>\n",
              "      <td>Positive</td>\n",
              "    </tr>\n",
              "    <tr>\n",
              "      <th>3</th>\n",
              "      <td>I read through the reviews on here before look...</td>\n",
              "      <td>Disappointed</td>\n",
              "      <td>Negative</td>\n",
              "    </tr>\n",
              "    <tr>\n",
              "      <th>4</th>\n",
              "      <td>My husband bought this gel for us. The gel cau...</td>\n",
              "      <td>Irritation</td>\n",
              "      <td>Negative</td>\n",
              "    </tr>\n",
              "  </tbody>\n",
              "</table>\n",
              "</div>\n",
              "      <button class=\"colab-df-convert\" onclick=\"convertToInteractive('df-3f5e5187-ec7b-40a9-b723-12c8023ac5a1')\"\n",
              "              title=\"Convert this dataframe to an interactive table.\"\n",
              "              style=\"display:none;\">\n",
              "        \n",
              "  <svg xmlns=\"http://www.w3.org/2000/svg\" height=\"24px\"viewBox=\"0 0 24 24\"\n",
              "       width=\"24px\">\n",
              "    <path d=\"M0 0h24v24H0V0z\" fill=\"none\"/>\n",
              "    <path d=\"M18.56 5.44l.94 2.06.94-2.06 2.06-.94-2.06-.94-.94-2.06-.94 2.06-2.06.94zm-11 1L8.5 8.5l.94-2.06 2.06-.94-2.06-.94L8.5 2.5l-.94 2.06-2.06.94zm10 10l.94 2.06.94-2.06 2.06-.94-2.06-.94-.94-2.06-.94 2.06-2.06.94z\"/><path d=\"M17.41 7.96l-1.37-1.37c-.4-.4-.92-.59-1.43-.59-.52 0-1.04.2-1.43.59L10.3 9.45l-7.72 7.72c-.78.78-.78 2.05 0 2.83L4 21.41c.39.39.9.59 1.41.59.51 0 1.02-.2 1.41-.59l7.78-7.78 2.81-2.81c.8-.78.8-2.07 0-2.86zM5.41 20L4 18.59l7.72-7.72 1.47 1.35L5.41 20z\"/>\n",
              "  </svg>\n",
              "      </button>\n",
              "      \n",
              "  <style>\n",
              "    .colab-df-container {\n",
              "      display:flex;\n",
              "      flex-wrap:wrap;\n",
              "      gap: 12px;\n",
              "    }\n",
              "\n",
              "    .colab-df-convert {\n",
              "      background-color: #E8F0FE;\n",
              "      border: none;\n",
              "      border-radius: 50%;\n",
              "      cursor: pointer;\n",
              "      display: none;\n",
              "      fill: #1967D2;\n",
              "      height: 32px;\n",
              "      padding: 0 0 0 0;\n",
              "      width: 32px;\n",
              "    }\n",
              "\n",
              "    .colab-df-convert:hover {\n",
              "      background-color: #E2EBFA;\n",
              "      box-shadow: 0px 1px 2px rgba(60, 64, 67, 0.3), 0px 1px 3px 1px rgba(60, 64, 67, 0.15);\n",
              "      fill: #174EA6;\n",
              "    }\n",
              "\n",
              "    [theme=dark] .colab-df-convert {\n",
              "      background-color: #3B4455;\n",
              "      fill: #D2E3FC;\n",
              "    }\n",
              "\n",
              "    [theme=dark] .colab-df-convert:hover {\n",
              "      background-color: #434B5C;\n",
              "      box-shadow: 0px 1px 3px 1px rgba(0, 0, 0, 0.15);\n",
              "      filter: drop-shadow(0px 1px 2px rgba(0, 0, 0, 0.3));\n",
              "      fill: #FFFFFF;\n",
              "    }\n",
              "  </style>\n",
              "\n",
              "      <script>\n",
              "        const buttonEl =\n",
              "          document.querySelector('#df-3f5e5187-ec7b-40a9-b723-12c8023ac5a1 button.colab-df-convert');\n",
              "        buttonEl.style.display =\n",
              "          google.colab.kernel.accessAllowed ? 'block' : 'none';\n",
              "\n",
              "        async function convertToInteractive(key) {\n",
              "          const element = document.querySelector('#df-3f5e5187-ec7b-40a9-b723-12c8023ac5a1');\n",
              "          const dataTable =\n",
              "            await google.colab.kernel.invokeFunction('convertToInteractive',\n",
              "                                                     [key], {});\n",
              "          if (!dataTable) return;\n",
              "\n",
              "          const docLinkHtml = 'Like what you see? Visit the ' +\n",
              "            '<a target=\"_blank\" href=https://colab.research.google.com/notebooks/data_table.ipynb>data table notebook</a>'\n",
              "            + ' to learn more about interactive tables.';\n",
              "          element.innerHTML = '';\n",
              "          dataTable['output_type'] = 'display_data';\n",
              "          await google.colab.output.renderOutput(dataTable, element);\n",
              "          const docLink = document.createElement('div');\n",
              "          docLink.innerHTML = docLinkHtml;\n",
              "          element.appendChild(docLink);\n",
              "        }\n",
              "      </script>\n",
              "    </div>\n",
              "  </div>\n",
              "  "
            ],
            "text/plain": [
              "                                        reviews_text reviews_title  \\\n",
              "0  i love this album. it's very good. more to the...  Just Awesome   \n",
              "1                                     Good flavor. .          Good   \n",
              "2                                       Good flavor.          Good   \n",
              "3  I read through the reviews on here before look...  Disappointed   \n",
              "4  My husband bought this gel for us. The gel cau...    Irritation   \n",
              "\n",
              "  user_sentiment  \n",
              "0       Positive  \n",
              "1       Positive  \n",
              "2       Positive  \n",
              "3       Negative  \n",
              "4       Negative  "
            ]
          },
          "metadata": {},
          "execution_count": 12
        }
      ],
      "source": [
        "#removing the string from reviews_text that repeats for almost all comments, as seen in EDA phase.\n",
        "pd_sentiment['reviews_text'] = pd_sentiment.reviews_text.apply(lambda x : x.replace(\"This review was collected as part of a promotion\", \"\"))\n",
        "pd_nlp_data = pd_sentiment.copy()\n",
        "pd_nlp_data.head()"
      ]
    },
    {
      "cell_type": "code",
      "execution_count": 13,
      "metadata": {
        "colab": {
          "base_uri": "https://localhost:8080/"
        },
        "id": "Ioarv5ljNX7a",
        "outputId": "62b3f727-12a6-433c-9b9a-54ddd9012b3c"
      },
      "outputs": [
        {
          "output_type": "stream",
          "name": "stdout",
          "text": [
            "<class 'pandas.core.frame.DataFrame'>\n",
            "Int64Index: 29999 entries, 0 to 29999\n",
            "Data columns (total 4 columns):\n",
            " #   Column          Non-Null Count  Dtype \n",
            "---  ------          --------------  ----- \n",
            " 0   reviews_text    29999 non-null  object\n",
            " 1   reviews_title   29999 non-null  object\n",
            " 2   user_sentiment  29999 non-null  object\n",
            " 3   text            29999 non-null  object\n",
            "dtypes: object(4)\n",
            "memory usage: 1.1+ MB\n"
          ]
        }
      ],
      "source": [
        "# combine reviews_text and reviews_title columns\n",
        "pd_nlp_data['text'] = pd_nlp_data.apply(lambda x: str(x['reviews_text']) + ' ' + str(x['reviews_title']), axis=1)\n",
        "pd_nlp_data.info()"
      ]
    },
    {
      "cell_type": "markdown",
      "metadata": {
        "id": "rqHZF7uZJxFM"
      },
      "source": [
        "We are going to evaluate the solutions for classification problem of sentiment analysis on the review text in two ways\n",
        "\n",
        "**1. Machine Learning-**\n",
        "  *   Text Cleaning\n",
        "  *   Class imbalance check and fix\n",
        "  *   TF-IDF based feature creation\n",
        "  *   Multiple classifiers to train\n",
        "  *   Evaluate performance of each classifier\n",
        "      *  **Model 1 - Logistic Regression**\n",
        "      *  **Model 2 - Naive Bayes**\n",
        "      *  **Model 3 - Random Forest with hyperparameter tuning**\n",
        "\n",
        "**2. Deep Learning - Model 4**\n",
        "  *   Text Cleaning\n",
        "  *   Embeddings\n",
        "  *   Attention Layer\n",
        "  *   Evaluate performance of classifier"
      ]
    },
    {
      "cell_type": "markdown",
      "metadata": {
        "id": "uuvLN9EmLuM4"
      },
      "source": [
        "**1.1 Implementation Through Machine Learning**"
      ]
    },
    {
      "cell_type": "code",
      "execution_count": 14,
      "metadata": {
        "id": "IeqiCMNUNYf9"
      },
      "outputs": [],
      "source": [
        "# Feature Generation - preprocessing + tf-idf\n",
        "# Steps\n",
        "# 1.1 lower casing\n",
        "# 1.2 punctuation removal\n",
        "# 1.3 stop word removal\n",
        "# 1.4 Stemming\n",
        "# 1.5 Lemmatization\n",
        "# 1.6 TF-IDF creation\n",
        "\n",
        "tokenizer = nltk.RegexpTokenizer(r\"\\w+\")\n",
        "stop_words = set(stopwords.words('english'))\n",
        "ps = PorterStemmer()\n",
        "lemmatizer = WordNetLemmatizer()\n",
        "\n",
        "def clean_text_method1(text):\n",
        "    text = text.lower()\n",
        "    text = tokenizer.tokenize(text)\n",
        "    text = [x for x in text if x not in stop_words]\n",
        "    text = [ps.stem(x) for x in text]\n",
        "    text = [lemmatizer.lemmatize(x) for x in text]\n",
        "    return \" \".join(text)"
      ]
    },
    {
      "cell_type": "code",
      "execution_count": 15,
      "metadata": {
        "colab": {
          "base_uri": "https://localhost:8080/",
          "height": 206
        },
        "id": "MJ_Y2f1pNaju",
        "outputId": "e4129ceb-963e-466d-e983-224761a5fcdc"
      },
      "outputs": [
        {
          "output_type": "execute_result",
          "data": {
            "text/html": [
              "\n",
              "  <div id=\"df-2f9b61a8-13a5-4612-8c63-b58dc2fb2089\">\n",
              "    <div class=\"colab-df-container\">\n",
              "      <div>\n",
              "<style scoped>\n",
              "    .dataframe tbody tr th:only-of-type {\n",
              "        vertical-align: middle;\n",
              "    }\n",
              "\n",
              "    .dataframe tbody tr th {\n",
              "        vertical-align: top;\n",
              "    }\n",
              "\n",
              "    .dataframe thead th {\n",
              "        text-align: right;\n",
              "    }\n",
              "</style>\n",
              "<table border=\"1\" class=\"dataframe\">\n",
              "  <thead>\n",
              "    <tr style=\"text-align: right;\">\n",
              "      <th></th>\n",
              "      <th>reviews_text</th>\n",
              "      <th>reviews_title</th>\n",
              "      <th>user_sentiment</th>\n",
              "      <th>text</th>\n",
              "      <th>text_clean</th>\n",
              "    </tr>\n",
              "  </thead>\n",
              "  <tbody>\n",
              "    <tr>\n",
              "      <th>0</th>\n",
              "      <td>i love this album. it's very good. more to the...</td>\n",
              "      <td>Just Awesome</td>\n",
              "      <td>Positive</td>\n",
              "      <td>i love this album. it's very good. more to the...</td>\n",
              "      <td>love album good hip hop side current pop sound...</td>\n",
              "    </tr>\n",
              "    <tr>\n",
              "      <th>1</th>\n",
              "      <td>Good flavor. .</td>\n",
              "      <td>Good</td>\n",
              "      <td>Positive</td>\n",
              "      <td>Good flavor. . Good</td>\n",
              "      <td>good flavor good</td>\n",
              "    </tr>\n",
              "    <tr>\n",
              "      <th>2</th>\n",
              "      <td>Good flavor.</td>\n",
              "      <td>Good</td>\n",
              "      <td>Positive</td>\n",
              "      <td>Good flavor. Good</td>\n",
              "      <td>good flavor good</td>\n",
              "    </tr>\n",
              "    <tr>\n",
              "      <th>3</th>\n",
              "      <td>I read through the reviews on here before look...</td>\n",
              "      <td>Disappointed</td>\n",
              "      <td>Negative</td>\n",
              "      <td>I read through the reviews on here before look...</td>\n",
              "      <td>read review look buy one coupl lubric ultim di...</td>\n",
              "    </tr>\n",
              "    <tr>\n",
              "      <th>4</th>\n",
              "      <td>My husband bought this gel for us. The gel cau...</td>\n",
              "      <td>Irritation</td>\n",
              "      <td>Negative</td>\n",
              "      <td>My husband bought this gel for us. The gel cau...</td>\n",
              "      <td>husband bought gel u gel caus irrit felt like ...</td>\n",
              "    </tr>\n",
              "  </tbody>\n",
              "</table>\n",
              "</div>\n",
              "      <button class=\"colab-df-convert\" onclick=\"convertToInteractive('df-2f9b61a8-13a5-4612-8c63-b58dc2fb2089')\"\n",
              "              title=\"Convert this dataframe to an interactive table.\"\n",
              "              style=\"display:none;\">\n",
              "        \n",
              "  <svg xmlns=\"http://www.w3.org/2000/svg\" height=\"24px\"viewBox=\"0 0 24 24\"\n",
              "       width=\"24px\">\n",
              "    <path d=\"M0 0h24v24H0V0z\" fill=\"none\"/>\n",
              "    <path d=\"M18.56 5.44l.94 2.06.94-2.06 2.06-.94-2.06-.94-.94-2.06-.94 2.06-2.06.94zm-11 1L8.5 8.5l.94-2.06 2.06-.94-2.06-.94L8.5 2.5l-.94 2.06-2.06.94zm10 10l.94 2.06.94-2.06 2.06-.94-2.06-.94-.94-2.06-.94 2.06-2.06.94z\"/><path d=\"M17.41 7.96l-1.37-1.37c-.4-.4-.92-.59-1.43-.59-.52 0-1.04.2-1.43.59L10.3 9.45l-7.72 7.72c-.78.78-.78 2.05 0 2.83L4 21.41c.39.39.9.59 1.41.59.51 0 1.02-.2 1.41-.59l7.78-7.78 2.81-2.81c.8-.78.8-2.07 0-2.86zM5.41 20L4 18.59l7.72-7.72 1.47 1.35L5.41 20z\"/>\n",
              "  </svg>\n",
              "      </button>\n",
              "      \n",
              "  <style>\n",
              "    .colab-df-container {\n",
              "      display:flex;\n",
              "      flex-wrap:wrap;\n",
              "      gap: 12px;\n",
              "    }\n",
              "\n",
              "    .colab-df-convert {\n",
              "      background-color: #E8F0FE;\n",
              "      border: none;\n",
              "      border-radius: 50%;\n",
              "      cursor: pointer;\n",
              "      display: none;\n",
              "      fill: #1967D2;\n",
              "      height: 32px;\n",
              "      padding: 0 0 0 0;\n",
              "      width: 32px;\n",
              "    }\n",
              "\n",
              "    .colab-df-convert:hover {\n",
              "      background-color: #E2EBFA;\n",
              "      box-shadow: 0px 1px 2px rgba(60, 64, 67, 0.3), 0px 1px 3px 1px rgba(60, 64, 67, 0.15);\n",
              "      fill: #174EA6;\n",
              "    }\n",
              "\n",
              "    [theme=dark] .colab-df-convert {\n",
              "      background-color: #3B4455;\n",
              "      fill: #D2E3FC;\n",
              "    }\n",
              "\n",
              "    [theme=dark] .colab-df-convert:hover {\n",
              "      background-color: #434B5C;\n",
              "      box-shadow: 0px 1px 3px 1px rgba(0, 0, 0, 0.15);\n",
              "      filter: drop-shadow(0px 1px 2px rgba(0, 0, 0, 0.3));\n",
              "      fill: #FFFFFF;\n",
              "    }\n",
              "  </style>\n",
              "\n",
              "      <script>\n",
              "        const buttonEl =\n",
              "          document.querySelector('#df-2f9b61a8-13a5-4612-8c63-b58dc2fb2089 button.colab-df-convert');\n",
              "        buttonEl.style.display =\n",
              "          google.colab.kernel.accessAllowed ? 'block' : 'none';\n",
              "\n",
              "        async function convertToInteractive(key) {\n",
              "          const element = document.querySelector('#df-2f9b61a8-13a5-4612-8c63-b58dc2fb2089');\n",
              "          const dataTable =\n",
              "            await google.colab.kernel.invokeFunction('convertToInteractive',\n",
              "                                                     [key], {});\n",
              "          if (!dataTable) return;\n",
              "\n",
              "          const docLinkHtml = 'Like what you see? Visit the ' +\n",
              "            '<a target=\"_blank\" href=https://colab.research.google.com/notebooks/data_table.ipynb>data table notebook</a>'\n",
              "            + ' to learn more about interactive tables.';\n",
              "          element.innerHTML = '';\n",
              "          dataTable['output_type'] = 'display_data';\n",
              "          await google.colab.output.renderOutput(dataTable, element);\n",
              "          const docLink = document.createElement('div');\n",
              "          docLink.innerHTML = docLinkHtml;\n",
              "          element.appendChild(docLink);\n",
              "        }\n",
              "      </script>\n",
              "    </div>\n",
              "  </div>\n",
              "  "
            ],
            "text/plain": [
              "                                        reviews_text reviews_title  \\\n",
              "0  i love this album. it's very good. more to the...  Just Awesome   \n",
              "1                                     Good flavor. .          Good   \n",
              "2                                       Good flavor.          Good   \n",
              "3  I read through the reviews on here before look...  Disappointed   \n",
              "4  My husband bought this gel for us. The gel cau...    Irritation   \n",
              "\n",
              "  user_sentiment                                               text  \\\n",
              "0       Positive  i love this album. it's very good. more to the...   \n",
              "1       Positive                                Good flavor. . Good   \n",
              "2       Positive                                  Good flavor. Good   \n",
              "3       Negative  I read through the reviews on here before look...   \n",
              "4       Negative  My husband bought this gel for us. The gel cau...   \n",
              "\n",
              "                                          text_clean  \n",
              "0  love album good hip hop side current pop sound...  \n",
              "1                                   good flavor good  \n",
              "2                                   good flavor good  \n",
              "3  read review look buy one coupl lubric ultim di...  \n",
              "4  husband bought gel u gel caus irrit felt like ...  "
            ]
          },
          "metadata": {},
          "execution_count": 15
        }
      ],
      "source": [
        "pd_nlp_data['text_clean'] = pd_nlp_data.text.apply(clean_text_method1)\n",
        "    \n",
        "pd_nlp_data.head()"
      ]
    },
    {
      "cell_type": "code",
      "execution_count": 16,
      "metadata": {
        "id": "IY3ndHYjPALE"
      },
      "outputs": [],
      "source": [
        "pd_nlp_data = pd_nlp_data[['text_clean' , 'user_sentiment']]"
      ]
    },
    {
      "cell_type": "code",
      "execution_count": 17,
      "metadata": {
        "colab": {
          "base_uri": "https://localhost:8080/"
        },
        "id": "ZIeZ5V-wPC3_",
        "outputId": "90d19302-9017-4de3-e5f4-2a0da4e2c5bd"
      },
      "outputs": [
        {
          "output_type": "stream",
          "name": "stdout",
          "text": [
            "Training data shape = X = (20099,), y= (20099,)\n",
            "Testing data shape = X = (9900,), y= (9900,)\n"
          ]
        }
      ],
      "source": [
        "# apply train test split on data\n",
        "X = pd_nlp_data.text_clean\n",
        "y = pd_nlp_data.user_sentiment\n",
        "\n",
        "y = y.apply(lambda x: 1 if x=='Positive' else 0) # convert target classes to binary 0 and 1\n",
        "\n",
        "X_train, X_test, y_train, y_test = train_test_split(X, y, test_size=0.33, random_state=42)\n",
        "print(\"Training data shape = X = {}, y= {}\".format(X_train.shape, y_train.shape))\n",
        "print(\"Testing data shape = X = {}, y= {}\".format(X_test.shape, y_test.shape))"
      ]
    },
    {
      "cell_type": "code",
      "execution_count": 18,
      "metadata": {
        "id": "mRWHO7DbPC6y"
      },
      "outputs": [],
      "source": [
        "# generate TFIDF\n",
        "vectorizer = TfidfVectorizer()\n",
        "X_train_tfidf = vectorizer.fit_transform(X_train)\n",
        "X_test_tfidf = vectorizer.transform(X_test)"
      ]
    },
    {
      "cell_type": "code",
      "execution_count": 19,
      "metadata": {
        "colab": {
          "base_uri": "https://localhost:8080/"
        },
        "id": "6Ti06X7JPC9Z",
        "outputId": "925267df-18f7-4ed9-c213-c65d134ad4ea"
      },
      "outputs": [
        {
          "output_type": "stream",
          "name": "stdout",
          "text": [
            "X_train has 20099 training rows of 10629 columns\n",
            "X_test has 9900 testing rows of 10629 columns\n"
          ]
        }
      ],
      "source": [
        "print(\"X_train has {} training rows of {} columns\".format(X_train_tfidf.shape[0], X_train_tfidf.shape[1]))\n",
        "print(\"X_test has {} testing rows of {} columns\".format(X_test_tfidf.shape[0], X_test_tfidf.shape[1]))"
      ]
    },
    {
      "cell_type": "code",
      "execution_count": 20,
      "metadata": {
        "colab": {
          "base_uri": "https://localhost:8080/"
        },
        "id": "zwP1KZnNPJEn",
        "outputId": "b3895cdd-60d9-4122-e561-66b2e26e2481"
      },
      "outputs": [
        {
          "output_type": "execute_result",
          "data": {
            "text/plain": [
              "1    0.886213\n",
              "0    0.113787\n",
              "Name: user_sentiment, dtype: float64"
            ]
          },
          "metadata": {},
          "execution_count": 20
        }
      ],
      "source": [
        "# check for class imbalance in training sample\n",
        "y_train.value_counts(normalize=True)"
      ]
    },
    {
      "cell_type": "markdown",
      "source": [
        "### **Handling class imbalance through oversampling with SMOTE**"
      ],
      "metadata": {
        "id": "aOnfuIXaEY1Z"
      }
    },
    {
      "cell_type": "code",
      "execution_count": 21,
      "metadata": {
        "colab": {
          "base_uri": "https://localhost:8080/"
        },
        "id": "cKHrfUbZPJJ3",
        "outputId": "d432fc78-1531-408b-ad91-b46b5d945004"
      },
      "outputs": [
        {
          "output_type": "stream",
          "name": "stdout",
          "text": [
            "Balance after SMOTE processing\n"
          ]
        },
        {
          "output_type": "execute_result",
          "data": {
            "text/plain": [
              "1    0.5\n",
              "0    0.5\n",
              "Name: user_sentiment, dtype: float64"
            ]
          },
          "metadata": {},
          "execution_count": 21
        }
      ],
      "source": [
        "#oversampling through SMOTE to make balanced class distribution\n",
        "\n",
        "from imblearn.over_sampling import SMOTE\n",
        "\n",
        "oversample = SMOTE()\n",
        "X_train_bal, y_train_bal = oversample.fit_resample(X_train_tfidf, y_train)\n",
        "print(\"Balance after SMOTE processing\")\n",
        "y_train_bal.value_counts(normalize=True)"
      ]
    },
    {
      "cell_type": "code",
      "execution_count": 22,
      "metadata": {
        "id": "Mz_IQziGPJMF"
      },
      "outputs": [],
      "source": [
        "# we will try multiple ML modeling techniques with hyperparameter tuning over this data \n",
        "# model 1 - Logistic regression\n",
        "# model 2 - Naive Bayes\n",
        "# model 3 - Random Forest\n",
        "\n",
        "def lr_model():\n",
        "  clf = LogisticRegression(random_state=42, max_iter=1000).fit(X_train_bal, y_train_bal)\n",
        "  return clf\n",
        "\n",
        "clf_lr = lr_model()\n",
        "\n",
        "def nb_model():\n",
        "  clf = MultinomialNB()\n",
        "  clf.fit(X_train_bal, y_train_bal)\n",
        "  return clf\n",
        "\n",
        "clf_nb = nb_model()"
      ]
    },
    {
      "cell_type": "code",
      "execution_count": 51,
      "metadata": {
        "id": "I9bqtYMVTTEX"
      },
      "outputs": [],
      "source": [
        "def evalModel(X_tr, y_tr, X_tes, y_tes, model, batch_size=None):\n",
        "  if batch_size is None:\n",
        "    y_tr_pred = model.predict(X_tr)\n",
        "    y_tes_pred = model.predict(X_tes)\n",
        "  else:\n",
        "    y_tr_pred = model.predict(X_tr, batch_size = batch_size)\n",
        "    y_tr_pred = [1 if x >= 0.6 else 0 for x in y_tr_pred]\n",
        "    y_tes_pred = model.predict(X_tes, batch_size = batch_size)\n",
        "    y_tes_pred = [1 if x >= 0.6 else 0 for x in y_tes_pred]\n",
        "\n",
        "  tn, fp, fn, tp = metrics.confusion_matrix(y_tr, y_tr_pred).ravel()\n",
        "  specificity = tn / (tn+fp)\n",
        "  senstivity = tp / (tp+fn)\n",
        "  auc = metrics.roc_auc_score(y_tr, y_tr_pred)\n",
        "\n",
        "  print(\"Training specificity = {}\".format(specificity))\n",
        "  print(\"Training senstivity = {}\".format(senstivity))\n",
        "  print(\"Training AUC = {}\\n\".format(auc))\n",
        "\n",
        "  tn, fp, fn, tp = metrics.confusion_matrix(y_tes, y_tes_pred).ravel()\n",
        "  specificity = tn / (tn+fp)\n",
        "  senstivity = tp / (tp+fn)\n",
        "  auc = metrics.roc_auc_score(y_tes, y_tes_pred)\n",
        "\n",
        "  print(\"Testing specificity = {}\".format(specificity))\n",
        "  print(\"Testing senstivity = {}\".format(senstivity))\n",
        "  print(\"Testing AUC = {}\".format(auc))"
      ]
    },
    {
      "cell_type": "code",
      "execution_count": 24,
      "metadata": {
        "colab": {
          "base_uri": "https://localhost:8080/"
        },
        "id": "trJiMpmTRm4n",
        "outputId": "a2ab3349-2380-47f6-c11c-29395544c8ca"
      },
      "outputs": [
        {
          "output_type": "stream",
          "name": "stdout",
          "text": [
            "Evaluation for Logistic Regression Model\n",
            "Training specificity = 0.9486862789130923\n",
            "Training senstivity = 0.8871547271502358\n",
            "Training AUC = 0.9179205030316642\n",
            "\n",
            "Testing specificity = 0.7675925925925926\n",
            "Testing senstivity = 0.8787981859410431\n",
            "Testing AUC = 0.8231953892668179\n"
          ]
        }
      ],
      "source": [
        "print(\"Evaluation for Logistic Regression Model\")\n",
        "evalModel(X_train_bal, y_train_bal, X_test_tfidf, y_test, clf_lr)"
      ]
    },
    {
      "cell_type": "code",
      "execution_count": 25,
      "metadata": {
        "colab": {
          "base_uri": "https://localhost:8080/"
        },
        "id": "HwNdt3IFOdsf",
        "outputId": "1976a87c-f68d-46c9-b243-20c6554505b6"
      },
      "outputs": [
        {
          "output_type": "stream",
          "name": "stdout",
          "text": [
            "Evaluation for Naive bayes Classifier Model\n",
            "Training specificity = 0.8569503705367169\n",
            "Training senstivity = 0.8663260723108017\n",
            "Training AUC = 0.8616382214237593\n",
            "\n",
            "Testing specificity = 0.5879629629629629\n",
            "Testing senstivity = 0.8476190476190476\n",
            "Testing AUC = 0.7177910052910054\n"
          ]
        }
      ],
      "source": [
        "print(\"Evaluation for Naive bayes Classifier Model\")\n",
        "evalModel(X_train_bal, y_train_bal, X_test_tfidf, y_test, clf_nb)"
      ]
    },
    {
      "cell_type": "code",
      "execution_count": 26,
      "metadata": {
        "colab": {
          "base_uri": "https://localhost:8080/"
        },
        "id": "6xb21aPgtg2V",
        "outputId": "41806463-17e5-4b8e-d5ae-bce2b3a86670"
      },
      "outputs": [
        {
          "output_type": "stream",
          "name": "stdout",
          "text": [
            "{'n_estimators': [5, 26, 48, 70, 91, 113, 135, 156, 178, 200], 'max_depth': range(50, 100, 10), 'min_samples_split': [2, 5, 10], 'min_samples_leaf': [5, 7, 10]}\n",
            "Fitting 3 folds for each of 20 candidates, totalling 60 fits\n"
          ]
        }
      ],
      "source": [
        "def rf_model():\n",
        "  # Number of trees in random forest\n",
        "  n_estimators = [int(x) for x in np.linspace(start = 5, stop = 200, num = 10)]\n",
        "  # Maximum number of levels in tree\n",
        "  max_depth = range(50, 100, 10)\n",
        "  # Minimum number of samples required to split a node\n",
        "  min_samples_split = [2, 5, 10]\n",
        "  # Minimum number of samples required at each leaf node\n",
        "  min_samples_leaf = [5, 7, 10]\n",
        "  # Create the random grid\n",
        "  random_grid = {'n_estimators': n_estimators,\n",
        "                 'max_depth': max_depth,\n",
        "                 'min_samples_split': min_samples_split,\n",
        "                 'min_samples_leaf': min_samples_leaf,\n",
        "                }\n",
        "  print(random_grid)\n",
        "  rf = RandomForestClassifier(random_state = 42)\n",
        "  rf_random = RandomizedSearchCV(estimator = rf, param_distributions = random_grid, n_iter = 20, cv = 3, verbose=1, random_state=42, n_jobs = -1)\n",
        "  \n",
        "  # Fit the random search model\n",
        "  rf_random.fit(X_train_bal, y_train_bal)\n",
        "\n",
        "  # get the best fit parameter\n",
        "  best_fit = rf_random.best_params_\n",
        "\n",
        "  #fit model on best parameters\n",
        "  clf = RandomForestClassifier(random_state = 42, max_depth = best_fit['max_depth'], min_samples_leaf = best_fit['min_samples_leaf'], min_samples_split=best_fit['min_samples_split'], n_estimators=best_fit['n_estimators'])\n",
        "  clf.fit(X_train_bal, y_train_bal)\n",
        "  return clf\n",
        "\n",
        "rf_clf = rf_model()"
      ]
    },
    {
      "cell_type": "code",
      "execution_count": 27,
      "metadata": {
        "colab": {
          "base_uri": "https://localhost:8080/"
        },
        "id": "2nsrqPLBvwJJ",
        "outputId": "795d14eb-74c4-4c2b-aa4e-1205949f203f"
      },
      "outputs": [
        {
          "output_type": "stream",
          "name": "stdout",
          "text": [
            "Evaluation for Random Forest Classifier Model\n",
            "Training specificity = 0.9261172243431395\n",
            "Training senstivity = 0.9470581630361554\n",
            "Training AUC = 0.9365876936896474\n",
            "\n",
            "Testing specificity = 0.5046296296296297\n",
            "Testing senstivity = 0.9165532879818594\n",
            "Testing AUC = 0.7105914588057445\n"
          ]
        }
      ],
      "source": [
        "print(\"Evaluation for Random Forest Classifier Model\")\n",
        "evalModel(X_train_bal, y_train_bal, X_test_tfidf, y_test, rf_clf)"
      ]
    },
    {
      "cell_type": "markdown",
      "source": [
        "### **2. Implementation Through Deep Learning**"
      ],
      "metadata": {
        "id": "-NPw94yRT8TZ"
      }
    },
    {
      "cell_type": "code",
      "source": [
        "pd_nlp_data = pd_sentiment.copy()\n",
        "pd_nlp_data['text'] = pd_nlp_data.apply(lambda x: str(x['reviews_text']) + ' ' + str(x['reviews_title']), axis=1)\n",
        "pd_nlp_data.head()"
      ],
      "metadata": {
        "colab": {
          "base_uri": "https://localhost:8080/",
          "height": 206
        },
        "id": "6cqL7jVeMtP0",
        "outputId": "2ac745c8-9d23-4c2d-b2f8-43836fa5b611"
      },
      "execution_count": 28,
      "outputs": [
        {
          "output_type": "execute_result",
          "data": {
            "text/html": [
              "\n",
              "  <div id=\"df-769e4493-c309-49e2-ade5-5e3753397449\">\n",
              "    <div class=\"colab-df-container\">\n",
              "      <div>\n",
              "<style scoped>\n",
              "    .dataframe tbody tr th:only-of-type {\n",
              "        vertical-align: middle;\n",
              "    }\n",
              "\n",
              "    .dataframe tbody tr th {\n",
              "        vertical-align: top;\n",
              "    }\n",
              "\n",
              "    .dataframe thead th {\n",
              "        text-align: right;\n",
              "    }\n",
              "</style>\n",
              "<table border=\"1\" class=\"dataframe\">\n",
              "  <thead>\n",
              "    <tr style=\"text-align: right;\">\n",
              "      <th></th>\n",
              "      <th>reviews_text</th>\n",
              "      <th>reviews_title</th>\n",
              "      <th>user_sentiment</th>\n",
              "      <th>text</th>\n",
              "    </tr>\n",
              "  </thead>\n",
              "  <tbody>\n",
              "    <tr>\n",
              "      <th>0</th>\n",
              "      <td>i love this album. it's very good. more to the...</td>\n",
              "      <td>Just Awesome</td>\n",
              "      <td>Positive</td>\n",
              "      <td>i love this album. it's very good. more to the...</td>\n",
              "    </tr>\n",
              "    <tr>\n",
              "      <th>1</th>\n",
              "      <td>Good flavor. .</td>\n",
              "      <td>Good</td>\n",
              "      <td>Positive</td>\n",
              "      <td>Good flavor. . Good</td>\n",
              "    </tr>\n",
              "    <tr>\n",
              "      <th>2</th>\n",
              "      <td>Good flavor.</td>\n",
              "      <td>Good</td>\n",
              "      <td>Positive</td>\n",
              "      <td>Good flavor. Good</td>\n",
              "    </tr>\n",
              "    <tr>\n",
              "      <th>3</th>\n",
              "      <td>I read through the reviews on here before look...</td>\n",
              "      <td>Disappointed</td>\n",
              "      <td>Negative</td>\n",
              "      <td>I read through the reviews on here before look...</td>\n",
              "    </tr>\n",
              "    <tr>\n",
              "      <th>4</th>\n",
              "      <td>My husband bought this gel for us. The gel cau...</td>\n",
              "      <td>Irritation</td>\n",
              "      <td>Negative</td>\n",
              "      <td>My husband bought this gel for us. The gel cau...</td>\n",
              "    </tr>\n",
              "  </tbody>\n",
              "</table>\n",
              "</div>\n",
              "      <button class=\"colab-df-convert\" onclick=\"convertToInteractive('df-769e4493-c309-49e2-ade5-5e3753397449')\"\n",
              "              title=\"Convert this dataframe to an interactive table.\"\n",
              "              style=\"display:none;\">\n",
              "        \n",
              "  <svg xmlns=\"http://www.w3.org/2000/svg\" height=\"24px\"viewBox=\"0 0 24 24\"\n",
              "       width=\"24px\">\n",
              "    <path d=\"M0 0h24v24H0V0z\" fill=\"none\"/>\n",
              "    <path d=\"M18.56 5.44l.94 2.06.94-2.06 2.06-.94-2.06-.94-.94-2.06-.94 2.06-2.06.94zm-11 1L8.5 8.5l.94-2.06 2.06-.94-2.06-.94L8.5 2.5l-.94 2.06-2.06.94zm10 10l.94 2.06.94-2.06 2.06-.94-2.06-.94-.94-2.06-.94 2.06-2.06.94z\"/><path d=\"M17.41 7.96l-1.37-1.37c-.4-.4-.92-.59-1.43-.59-.52 0-1.04.2-1.43.59L10.3 9.45l-7.72 7.72c-.78.78-.78 2.05 0 2.83L4 21.41c.39.39.9.59 1.41.59.51 0 1.02-.2 1.41-.59l7.78-7.78 2.81-2.81c.8-.78.8-2.07 0-2.86zM5.41 20L4 18.59l7.72-7.72 1.47 1.35L5.41 20z\"/>\n",
              "  </svg>\n",
              "      </button>\n",
              "      \n",
              "  <style>\n",
              "    .colab-df-container {\n",
              "      display:flex;\n",
              "      flex-wrap:wrap;\n",
              "      gap: 12px;\n",
              "    }\n",
              "\n",
              "    .colab-df-convert {\n",
              "      background-color: #E8F0FE;\n",
              "      border: none;\n",
              "      border-radius: 50%;\n",
              "      cursor: pointer;\n",
              "      display: none;\n",
              "      fill: #1967D2;\n",
              "      height: 32px;\n",
              "      padding: 0 0 0 0;\n",
              "      width: 32px;\n",
              "    }\n",
              "\n",
              "    .colab-df-convert:hover {\n",
              "      background-color: #E2EBFA;\n",
              "      box-shadow: 0px 1px 2px rgba(60, 64, 67, 0.3), 0px 1px 3px 1px rgba(60, 64, 67, 0.15);\n",
              "      fill: #174EA6;\n",
              "    }\n",
              "\n",
              "    [theme=dark] .colab-df-convert {\n",
              "      background-color: #3B4455;\n",
              "      fill: #D2E3FC;\n",
              "    }\n",
              "\n",
              "    [theme=dark] .colab-df-convert:hover {\n",
              "      background-color: #434B5C;\n",
              "      box-shadow: 0px 1px 3px 1px rgba(0, 0, 0, 0.15);\n",
              "      filter: drop-shadow(0px 1px 2px rgba(0, 0, 0, 0.3));\n",
              "      fill: #FFFFFF;\n",
              "    }\n",
              "  </style>\n",
              "\n",
              "      <script>\n",
              "        const buttonEl =\n",
              "          document.querySelector('#df-769e4493-c309-49e2-ade5-5e3753397449 button.colab-df-convert');\n",
              "        buttonEl.style.display =\n",
              "          google.colab.kernel.accessAllowed ? 'block' : 'none';\n",
              "\n",
              "        async function convertToInteractive(key) {\n",
              "          const element = document.querySelector('#df-769e4493-c309-49e2-ade5-5e3753397449');\n",
              "          const dataTable =\n",
              "            await google.colab.kernel.invokeFunction('convertToInteractive',\n",
              "                                                     [key], {});\n",
              "          if (!dataTable) return;\n",
              "\n",
              "          const docLinkHtml = 'Like what you see? Visit the ' +\n",
              "            '<a target=\"_blank\" href=https://colab.research.google.com/notebooks/data_table.ipynb>data table notebook</a>'\n",
              "            + ' to learn more about interactive tables.';\n",
              "          element.innerHTML = '';\n",
              "          dataTable['output_type'] = 'display_data';\n",
              "          await google.colab.output.renderOutput(dataTable, element);\n",
              "          const docLink = document.createElement('div');\n",
              "          docLink.innerHTML = docLinkHtml;\n",
              "          element.appendChild(docLink);\n",
              "        }\n",
              "      </script>\n",
              "    </div>\n",
              "  </div>\n",
              "  "
            ],
            "text/plain": [
              "                                        reviews_text reviews_title  \\\n",
              "0  i love this album. it's very good. more to the...  Just Awesome   \n",
              "1                                     Good flavor. .          Good   \n",
              "2                                       Good flavor.          Good   \n",
              "3  I read through the reviews on here before look...  Disappointed   \n",
              "4  My husband bought this gel for us. The gel cau...    Irritation   \n",
              "\n",
              "  user_sentiment                                               text  \n",
              "0       Positive  i love this album. it's very good. more to the...  \n",
              "1       Positive                                Good flavor. . Good  \n",
              "2       Positive                                  Good flavor. Good  \n",
              "3       Negative  I read through the reviews on here before look...  \n",
              "4       Negative  My husband bought this gel for us. The gel cau...  "
            ]
          },
          "metadata": {},
          "execution_count": 28
        }
      ]
    },
    {
      "cell_type": "code",
      "execution_count": 29,
      "metadata": {
        "colab": {
          "base_uri": "https://localhost:8080/"
        },
        "id": "M-jJNeLMIrkD",
        "outputId": "1deb391b-c681-4ae0-d405-f5e0dbce492f"
      },
      "outputs": [
        {
          "output_type": "stream",
          "name": "stdout",
          "text": [
            "(20099,) (20099,)\n",
            "(9900,) (9900,)\n"
          ]
        }
      ],
      "source": [
        "# For deep learning based model we would do minimum preprocessing and would let the model learn from word2vec about contextual information of the text\n",
        "X = pd_nlp_data['text'].apply(lambda x : re.sub(\"[^a-z ]\",\"\", x.lower()).replace(\"  \",\" \")) # convert to lowercase, remove special chars and any consecutive white spaces.\n",
        "y = pd_nlp_data['user_sentiment'].apply(lambda x : 1 if x=='Positive' else 0).astype('float') # convert target classes to binary 0 and 1\n",
        "\n",
        "X_train, X_test, y_train, y_test = train_test_split(X, y, test_size=0.33, random_state=42) # apply train test split\n",
        "print(X_train.shape, y_train.shape)\n",
        "print(X_test.shape, y_test.shape)\n"
      ]
    },
    {
      "cell_type": "code",
      "execution_count": 30,
      "metadata": {
        "id": "86rEgZaFy517"
      },
      "outputs": [],
      "source": [
        "vocab_size  = 10000\n",
        "pad_id = 0\n",
        "start_id = 1\n",
        "oov_id = 2\n",
        "index_offset = 2\n",
        "\n",
        "tokenizer = Tokenizer(num_words=vocab_size, oov_token=oov_id)\n",
        "tokenizer.fit_on_texts(X_train)\n",
        "\n",
        "# Get our training data word index\n",
        "word_index = tokenizer.word_index\n",
        "\n",
        "# Encode training data sentences into sequences\n",
        "train_sequences = tokenizer.texts_to_sequences(X_train)\n",
        "\n",
        "# Get max training sequence length\n",
        "maxlen = max([len(x) for x in train_sequences])\n",
        "\n",
        "# Pad the training sequences\n",
        "train_padded = pad_sequences(train_sequences, truncating='post', padding='post', value=pad_id, maxlen=maxlen)"
      ]
    },
    {
      "cell_type": "code",
      "execution_count": 31,
      "metadata": {
        "id": "4fCpn37O1sdb"
      },
      "outputs": [],
      "source": [
        "test_sequences = tokenizer.texts_to_sequences(X_test)\n",
        "test_padded = pad_sequences(test_sequences, truncating='post', padding='post', value=pad_id, maxlen=maxlen)"
      ]
    },
    {
      "cell_type": "code",
      "execution_count": 32,
      "metadata": {
        "id": "NnhlY5Mf1yxa"
      },
      "outputs": [],
      "source": [
        "class CustomAttention(tf.keras.Model):\n",
        "    def __init__(self, units):\n",
        "        super(CustomAttention, self).__init__()\n",
        "        self.W1 = tf.keras.layers.Dense(units)\n",
        "        self.W2 = tf.keras.layers.Dense(units)\n",
        "        self.V = tf.keras.layers.Dense(1)\n",
        "\n",
        "    def call(self, features, hidden):\n",
        "        hidden_with_time_axis = tf.expand_dims(hidden, 1)\n",
        "        score = tf.nn.tanh(self.W1(features) + self.W2(hidden_with_time_axis))\n",
        "        attention_weights = tf.nn.softmax(self.V(score), axis=1)\n",
        "        context_vector = attention_weights * features\n",
        "        context_vector = tf.reduce_sum(context_vector, axis=1)\n",
        "\n",
        "        return context_vector, attention_weights"
      ]
    },
    {
      "cell_type": "code",
      "execution_count": 33,
      "metadata": {
        "id": "khEcqNEH2LoR"
      },
      "outputs": [],
      "source": [
        "rnn_cell_size = 32\n",
        "\n",
        "sequence_input = tf.keras.layers.Input(shape=(maxlen,), dtype='int32')\n",
        "embedded_sequences = tf.keras.layers.Embedding(vocab_size, 128, input_length=maxlen)(sequence_input)\n",
        "\n",
        "lstm = tf.keras.layers.Bidirectional(tf.keras.layers.LSTM(rnn_cell_size, dropout=0.8, return_sequences=True, return_state=True))(embedded_sequences)\n",
        "lstm, forward_h, forward_c, backward_h, backward_c = tf.keras.layers.Bidirectional(tf.keras.layers.LSTM(rnn_cell_size, dropout=0.7, return_sequences=True, return_state=True))(lstm)                                 \n"
      ]
    },
    {
      "cell_type": "code",
      "execution_count": 34,
      "metadata": {
        "colab": {
          "base_uri": "https://localhost:8080/"
        },
        "id": "hQ4Qnfr83n8F",
        "outputId": "79104822-f5cb-43db-9e0a-0b6286dc614f"
      },
      "outputs": [
        {
          "output_type": "stream",
          "name": "stdout",
          "text": [
            "Model: \"model\"\n",
            "__________________________________________________________________________________________________\n",
            " Layer (type)                   Output Shape         Param #     Connected to                     \n",
            "==================================================================================================\n",
            " input_1 (InputLayer)           [(None, 575)]        0           []                               \n",
            "                                                                                                  \n",
            " embedding (Embedding)          (None, 575, 128)     1280000     ['input_1[0][0]']                \n",
            "                                                                                                  \n",
            " bidirectional (Bidirectional)  [(None, 575, 64),    41216       ['embedding[0][0]']              \n",
            "                                 (None, 32),                                                      \n",
            "                                 (None, 32),                                                      \n",
            "                                 (None, 32),                                                      \n",
            "                                 (None, 32)]                                                      \n",
            "                                                                                                  \n",
            " bidirectional_1 (Bidirectional  [(None, 575, 64),   24832       ['bidirectional[0][0]',          \n",
            " )                               (None, 32),                      'bidirectional[0][1]',          \n",
            "                                 (None, 32),                      'bidirectional[0][2]',          \n",
            "                                 (None, 32),                      'bidirectional[0][3]',          \n",
            "                                 (None, 32)]                      'bidirectional[0][4]']          \n",
            "                                                                                                  \n",
            " concatenate (Concatenate)      (None, 64)           0           ['bidirectional_1[0][1]',        \n",
            "                                                                  'bidirectional_1[0][3]']        \n",
            "                                                                                                  \n",
            " custom_attention (CustomAttent  ((None, 64),        1311        ['bidirectional_1[0][0]',        \n",
            " ion)                            (None, 575, 1))                  'concatenate[0][0]']            \n",
            "                                                                                                  \n",
            " dense_3 (Dense)                (None, 1)            65          ['custom_attention[0][0]']       \n",
            "                                                                                                  \n",
            "==================================================================================================\n",
            "Total params: 1,347,424\n",
            "Trainable params: 1,347,424\n",
            "Non-trainable params: 0\n",
            "__________________________________________________________________________________________________\n",
            "None\n"
          ]
        }
      ],
      "source": [
        "state_h = tf.keras.layers.Concatenate()([forward_h, backward_h])\n",
        "state_c = tf.keras.layers.Concatenate()([forward_c, backward_c])\n",
        "\n",
        "context_vector, attention_weights = CustomAttention(10)(lstm, state_h)\n",
        "\n",
        "output = tf.keras.layers.Dense(1, activation='sigmoid')(context_vector)\n",
        "\n",
        "model = tf.keras.Model(inputs=sequence_input, outputs=output)\n",
        "\n",
        "# summarize layers\n",
        "print(model.summary())"
      ]
    },
    {
      "cell_type": "code",
      "execution_count": 35,
      "metadata": {
        "id": "kLfo7Pdc4aNd"
      },
      "outputs": [],
      "source": [
        "early_stopping_callback = tf.keras.callbacks.EarlyStopping(monitor='val_loss',\n",
        "                                                        min_delta=0,\n",
        "                                                        patience=3,\n",
        "                                                        verbose=0, mode='auto')\n"
      ]
    },
    {
      "cell_type": "code",
      "execution_count": 36,
      "metadata": {
        "id": "qf4pzQ7oGWZ-"
      },
      "outputs": [],
      "source": [
        "epochs=20\n",
        "model.compile(optimizer='adam',\n",
        "              loss='binary_crossentropy',\n",
        "              metrics=['acc', tf.keras.metrics.AUC()])"
      ]
    },
    {
      "cell_type": "code",
      "execution_count": 37,
      "metadata": {
        "colab": {
          "base_uri": "https://localhost:8080/"
        },
        "id": "_AbjIyzx4emG",
        "outputId": "1809c8ff-40b3-4cd0-bbc8-479284e7eec0"
      },
      "outputs": [
        {
          "output_type": "stream",
          "name": "stdout",
          "text": [
            "Epoch 1/20\n",
            "41/41 [==============================] - 355s 8s/step - loss: 1.3190 - acc: 0.1180 - auc: 0.5089 - val_loss: 0.7559 - val_acc: 0.1102 - val_auc: 0.6277\n",
            "Epoch 2/20\n",
            "41/41 [==============================] - 347s 8s/step - loss: 1.0363 - acc: 0.6037 - auc: 0.7977 - val_loss: 0.4530 - val_acc: 0.7904 - val_auc: 0.9087\n",
            "Epoch 3/20\n",
            "41/41 [==============================] - 344s 8s/step - loss: 0.6319 - acc: 0.8449 - auc: 0.9307 - val_loss: 0.3173 - val_acc: 0.8753 - val_auc: 0.9288\n",
            "Epoch 4/20\n",
            "41/41 [==============================] - 345s 8s/step - loss: 0.4797 - acc: 0.8832 - auc: 0.9594 - val_loss: 0.2509 - val_acc: 0.8996 - val_auc: 0.9349\n",
            "Epoch 5/20\n",
            "41/41 [==============================] - 348s 8s/step - loss: 0.4040 - acc: 0.9031 - auc: 0.9704 - val_loss: 0.2218 - val_acc: 0.9127 - val_auc: 0.9398\n",
            "Epoch 6/20\n",
            "41/41 [==============================] - 341s 8s/step - loss: 0.3427 - acc: 0.9228 - auc: 0.9777 - val_loss: 0.2780 - val_acc: 0.8969 - val_auc: 0.9382\n",
            "Epoch 7/20\n",
            "41/41 [==============================] - 347s 8s/step - loss: 0.3068 - acc: 0.9261 - auc: 0.9813 - val_loss: 0.2485 - val_acc: 0.9083 - val_auc: 0.9410\n",
            "Epoch 8/20\n",
            "41/41 [==============================] - 346s 8s/step - loss: 0.2547 - acc: 0.9394 - auc: 0.9863 - val_loss: 0.2217 - val_acc: 0.9222 - val_auc: 0.9358\n",
            "Epoch 9/20\n",
            "41/41 [==============================] - 351s 9s/step - loss: 0.2433 - acc: 0.9439 - auc: 0.9879 - val_loss: 0.2457 - val_acc: 0.9151 - val_auc: 0.9392\n",
            "Epoch 10/20\n",
            "41/41 [==============================] - 342s 8s/step - loss: 0.2126 - acc: 0.9501 - auc: 0.9900 - val_loss: 0.2415 - val_acc: 0.9109 - val_auc: 0.9430\n",
            "Epoch 11/20\n",
            "41/41 [==============================] - 342s 8s/step - loss: 0.2031 - acc: 0.9512 - auc: 0.9906 - val_loss: 0.2474 - val_acc: 0.9213 - val_auc: 0.9297\n"
          ]
        }
      ],
      "source": [
        "class_weight = {0: 9.,\n",
        "                1: 1.}\n",
        "history = model.fit(train_padded, \\\n",
        "                      y_train, \\\n",
        "                      epochs=epochs, \\\n",
        "                      batch_size=500, \\\n",
        "                      validation_data=(test_padded, y_test), \\\n",
        "                      verbose=1, \\\n",
        "                      callbacks = [early_stopping_callback], \\\n",
        "                      class_weight=class_weight\n",
        "                    \n",
        "                    )\n"
      ]
    },
    {
      "cell_type": "code",
      "execution_count": 52,
      "metadata": {
        "id": "CPrxvuPSaktw",
        "colab": {
          "base_uri": "https://localhost:8080/"
        },
        "outputId": "bad00ec4-e8c2-41cf-8a42-bc980da221aa"
      },
      "outputs": [
        {
          "output_type": "stream",
          "name": "stdout",
          "text": [
            "Evaluation for Deep learning Classifier Model\n",
            "Training specificity = 0.9943156974202011\n",
            "Training senstivity = 0.966763979339771\n",
            "Training AUC = 0.980539838379986\n",
            "\n",
            "Testing specificity = 0.7638888888888888\n",
            "Testing senstivity = 0.9365079365079365\n",
            "Testing AUC = 0.8501984126984127\n"
          ]
        }
      ],
      "source": [
        "# y_test_pred = model.predict(test_padded, batch_size=512)\n",
        "print(\"Evaluation for Deep learning Classifier Model\")\n",
        "evalModel(train_padded, y_train, test_padded, y_test, model, batch_size=5000)"
      ]
    },
    {
      "cell_type": "code",
      "execution_count": 53,
      "metadata": {
        "colab": {
          "base_uri": "https://localhost:8080/",
          "height": 573
        },
        "id": "XziRrKbXhcP3",
        "outputId": "76970305-d3fe-475e-d660-9305259f6456"
      },
      "outputs": [
        {
          "output_type": "display_data",
          "data": {
            "image/png": "[encoded data removed]",
            "text/plain": [
              "<Figure size 432x288 with 1 Axes>"
            ]
          },
          "metadata": {
            "needs_background": "light"
          }
        },
        {
          "output_type": "display_data",
          "data": {
            "image/png": "[encoded data removed]",
            "text/plain": [
              "<Figure size 432x288 with 1 Axes>"
            ]
          },
          "metadata": {
            "needs_background": "light"
          }
        }
      ],
      "source": [
        "import matplotlib.pyplot as plt\n",
        "import numpy\n",
        "auc_key = [x for x in history.history.keys() if 'auc' in x and 'val' not in x][0]\n",
        "# summarize history for accuracy\n",
        "plt.plot(history.history[auc_key])\n",
        "plt.plot(history.history['val_' + auc_key])\n",
        "plt.title('model auc')\n",
        "plt.ylabel('auc')\n",
        "plt.xlabel('epoch')\n",
        "plt.legend(['train', 'test'], loc='upper left')\n",
        "plt.show()\n",
        "# summarize history for loss\n",
        "plt.plot(history.history['loss'])\n",
        "plt.plot(history.history['val_loss'])\n",
        "plt.title('model loss')\n",
        "plt.ylabel('loss')\n",
        "plt.xlabel('epoch')\n",
        "plt.legend(['train', 'test'], loc='upper left')\n",
        "plt.show()"
      ]
    },
    {
      "cell_type": "markdown",
      "source": [
        "## **Summary of 4 Models for sentiment analysis**\n",
        "![image.png](data:image/png;base64,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)"
      ],
      "metadata": {
        "id": "em_0uL2YA9CO"
      }
    },
    {
      "cell_type": "markdown",
      "source": [
        "## ** ========Implementation of Recommendation System ==========**"
      ],
      "metadata": {
        "id": "Sxg13GSSR4jk"
      }
    },
    {
      "cell_type": "code",
      "source": [
        "# split the data into train-test\n",
        "from sklearn.model_selection import train_test_split\n",
        "train, test = train_test_split(pd_recomm_data, test_size=0.3, random_state=2)"
      ],
      "metadata": {
        "id": "tZ7ggmOlpEcp"
      },
      "execution_count": 40,
      "outputs": []
    },
    {
      "cell_type": "markdown",
      "source": [
        "**Implementing User-User based recommendation system**"
      ],
      "metadata": {
        "id": "XCAajFNHSyHG"
      }
    },
    {
      "cell_type": "code",
      "source": [
        "# pivot the data to create a user vs. productid grid where each cell will represent the rating given by user to the product.\n",
        "pd_pivot = train.pivot(index='reviews_username', columns='id', values='reviews_rating')\n",
        "\n",
        "#display an example row in dataset\n",
        "pd_pivot[~pd_pivot['AV13O1A8GV-KLJ3akUyj'].isna()].head()"
      ],
      "metadata": {
        "id": "ekPIqvXGonNu",
        "colab": {
          "base_uri": "https://localhost:8080/",
          "height": 240
        },
        "outputId": "e754099a-7e2d-4b62-d636-9768dcbf8977"
      },
      "execution_count": 41,
      "outputs": [
        {
          "output_type": "execute_result",
          "data": {
            "text/html": [
              "\n",
              "  <div id=\"df-5994d541-01cd-4923-8a60-0386fa135b51\">\n",
              "    <div class=\"colab-df-container\">\n",
              "      <div>\n",
              "<style scoped>\n",
              "    .dataframe tbody tr th:only-of-type {\n",
              "        vertical-align: middle;\n",
              "    }\n",
              "\n",
              "    .dataframe tbody tr th {\n",
              "        vertical-align: top;\n",
              "    }\n",
              "\n",
              "    .dataframe thead th {\n",
              "        text-align: right;\n",
              "    }\n",
              "</style>\n",
              "<table border=\"1\" class=\"dataframe\">\n",
              "  <thead>\n",
              "    <tr style=\"text-align: right;\">\n",
              "      <th>id</th>\n",
              "      <th>AV13O1A8GV-KLJ3akUyj</th>\n",
              "      <th>AV14LG0R-jtxr-f38QfS</th>\n",
              "      <th>AV16khLE-jtxr-f38VFn</th>\n",
              "      <th>AV1YGDqsGV-KLJ3adc-O</th>\n",
              "      <th>AV1YlENIglJLPUi8IHsX</th>\n",
              "      <th>AV1YmBrdGV-KLJ3adewb</th>\n",
              "      <th>AV1YmDL9vKc47QAVgr7_</th>\n",
              "      <th>AV1Ymf_rglJLPUi8II2v</th>\n",
              "      <th>AV1Yn94nvKc47QAVgtst</th>\n",
              "      <th>AV1YnUMYglJLPUi8IJpK</th>\n",
              "      <th>...</th>\n",
              "      <th>AVpfrTyiLJeJML43BrSI</th>\n",
              "      <th>AVpfrfHF1cnluZ0-pRai</th>\n",
              "      <th>AVpfrgjFLJeJML43BvCc</th>\n",
              "      <th>AVpfsQoeilAPnD_xgfx5</th>\n",
              "      <th>AVpfshNsLJeJML43CB8q</th>\n",
              "      <th>AVpfthSailAPnD_xg3ON</th>\n",
              "      <th>AVpftikC1cnluZ0-p31V</th>\n",
              "      <th>AVpftymALJeJML43CZ6y</th>\n",
              "      <th>AVpfv4TlilAPnD_xhjNS</th>\n",
              "      <th>AVpfvieo1cnluZ0-qdnu</th>\n",
              "    </tr>\n",
              "    <tr>\n",
              "      <th>reviews_username</th>\n",
              "      <th></th>\n",
              "      <th></th>\n",
              "      <th></th>\n",
              "      <th></th>\n",
              "      <th></th>\n",
              "      <th></th>\n",
              "      <th></th>\n",
              "      <th></th>\n",
              "      <th></th>\n",
              "      <th></th>\n",
              "      <th></th>\n",
              "      <th></th>\n",
              "      <th></th>\n",
              "      <th></th>\n",
              "      <th></th>\n",
              "      <th></th>\n",
              "      <th></th>\n",
              "      <th></th>\n",
              "      <th></th>\n",
              "      <th></th>\n",
              "      <th></th>\n",
              "    </tr>\n",
              "  </thead>\n",
              "  <tbody>\n",
              "    <tr>\n",
              "      <th>joshua</th>\n",
              "      <td>5.0</td>\n",
              "      <td>NaN</td>\n",
              "      <td>NaN</td>\n",
              "      <td>NaN</td>\n",
              "      <td>NaN</td>\n",
              "      <td>NaN</td>\n",
              "      <td>NaN</td>\n",
              "      <td>NaN</td>\n",
              "      <td>NaN</td>\n",
              "      <td>NaN</td>\n",
              "      <td>...</td>\n",
              "      <td>NaN</td>\n",
              "      <td>NaN</td>\n",
              "      <td>NaN</td>\n",
              "      <td>NaN</td>\n",
              "      <td>NaN</td>\n",
              "      <td>NaN</td>\n",
              "      <td>NaN</td>\n",
              "      <td>NaN</td>\n",
              "      <td>NaN</td>\n",
              "      <td>NaN</td>\n",
              "    </tr>\n",
              "  </tbody>\n",
              "</table>\n",
              "<p>1 rows × 253 columns</p>\n",
              "</div>\n",
              "      <button class=\"colab-df-convert\" onclick=\"convertToInteractive('df-5994d541-01cd-4923-8a60-0386fa135b51')\"\n",
              "              title=\"Convert this dataframe to an interactive table.\"\n",
              "              style=\"display:none;\">\n",
              "        \n",
              "  <svg xmlns=\"http://www.w3.org/2000/svg\" height=\"24px\"viewBox=\"0 0 24 24\"\n",
              "       width=\"24px\">\n",
              "    <path d=\"M0 0h24v24H0V0z\" fill=\"none\"/>\n",
              "    <path d=\"M18.56 5.44l.94 2.06.94-2.06 2.06-.94-2.06-.94-.94-2.06-.94 2.06-2.06.94zm-11 1L8.5 8.5l.94-2.06 2.06-.94-2.06-.94L8.5 2.5l-.94 2.06-2.06.94zm10 10l.94 2.06.94-2.06 2.06-.94-2.06-.94-.94-2.06-.94 2.06-2.06.94z\"/><path d=\"M17.41 7.96l-1.37-1.37c-.4-.4-.92-.59-1.43-.59-.52 0-1.04.2-1.43.59L10.3 9.45l-7.72 7.72c-.78.78-.78 2.05 0 2.83L4 21.41c.39.39.9.59 1.41.59.51 0 1.02-.2 1.41-.59l7.78-7.78 2.81-2.81c.8-.78.8-2.07 0-2.86zM5.41 20L4 18.59l7.72-7.72 1.47 1.35L5.41 20z\"/>\n",
              "  </svg>\n",
              "      </button>\n",
              "      \n",
              "  <style>\n",
              "    .colab-df-container {\n",
              "      display:flex;\n",
              "      flex-wrap:wrap;\n",
              "      gap: 12px;\n",
              "    }\n",
              "\n",
              "    .colab-df-convert {\n",
              "      background-color: #E8F0FE;\n",
              "      border: none;\n",
              "      border-radius: 50%;\n",
              "      cursor: pointer;\n",
              "      display: none;\n",
              "      fill: #1967D2;\n",
              "      height: 32px;\n",
              "      padding: 0 0 0 0;\n",
              "      width: 32px;\n",
              "    }\n",
              "\n",
              "    .colab-df-convert:hover {\n",
              "      background-color: #E2EBFA;\n",
              "      box-shadow: 0px 1px 2px rgba(60, 64, 67, 0.3), 0px 1px 3px 1px rgba(60, 64, 67, 0.15);\n",
              "      fill: #174EA6;\n",
              "    }\n",
              "\n",
              "    [theme=dark] .colab-df-convert {\n",
              "      background-color: #3B4455;\n",
              "      fill: #D2E3FC;\n",
              "    }\n",
              "\n",
              "    [theme=dark] .colab-df-convert:hover {\n",
              "      background-color: #434B5C;\n",
              "      box-shadow: 0px 1px 3px 1px rgba(0, 0, 0, 0.15);\n",
              "      filter: drop-shadow(0px 1px 2px rgba(0, 0, 0, 0.3));\n",
              "      fill: #FFFFFF;\n",
              "    }\n",
              "  </style>\n",
              "\n",
              "      <script>\n",
              "        const buttonEl =\n",
              "          document.querySelector('#df-5994d541-01cd-4923-8a60-0386fa135b51 button.colab-df-convert');\n",
              "        buttonEl.style.display =\n",
              "          google.colab.kernel.accessAllowed ? 'block' : 'none';\n",
              "\n",
              "        async function convertToInteractive(key) {\n",
              "          const element = document.querySelector('#df-5994d541-01cd-4923-8a60-0386fa135b51');\n",
              "          const dataTable =\n",
              "            await google.colab.kernel.invokeFunction('convertToInteractive',\n",
              "                                                     [key], {});\n",
              "          if (!dataTable) return;\n",
              "\n",
              "          const docLinkHtml = 'Like what you see? Visit the ' +\n",
              "            '<a target=\"_blank\" href=https://colab.research.google.com/notebooks/data_table.ipynb>data table notebook</a>'\n",
              "            + ' to learn more about interactive tables.';\n",
              "          element.innerHTML = '';\n",
              "          dataTable['output_type'] = 'display_data';\n",
              "          await google.colab.output.renderOutput(dataTable, element);\n",
              "          const docLink = document.createElement('div');\n",
              "          docLink.innerHTML = docLinkHtml;\n",
              "          element.appendChild(docLink);\n",
              "        }\n",
              "      </script>\n",
              "    </div>\n",
              "  </div>\n",
              "  "
            ],
            "text/plain": [
              "id                AV13O1A8GV-KLJ3akUyj  AV14LG0R-jtxr-f38QfS  \\\n",
              "reviews_username                                               \n",
              "joshua                             5.0                   NaN   \n",
              "\n",
              "id                AV16khLE-jtxr-f38VFn  AV1YGDqsGV-KLJ3adc-O  \\\n",
              "reviews_username                                               \n",
              "joshua                             NaN                   NaN   \n",
              "\n",
              "id                AV1YlENIglJLPUi8IHsX  AV1YmBrdGV-KLJ3adewb  \\\n",
              "reviews_username                                               \n",
              "joshua                             NaN                   NaN   \n",
              "\n",
              "id                AV1YmDL9vKc47QAVgr7_  AV1Ymf_rglJLPUi8II2v  \\\n",
              "reviews_username                                               \n",
              "joshua                             NaN                   NaN   \n",
              "\n",
              "id                AV1Yn94nvKc47QAVgtst  AV1YnUMYglJLPUi8IJpK  ...  \\\n",
              "reviews_username                                              ...   \n",
              "joshua                             NaN                   NaN  ...   \n",
              "\n",
              "id                AVpfrTyiLJeJML43BrSI  AVpfrfHF1cnluZ0-pRai  \\\n",
              "reviews_username                                               \n",
              "joshua                             NaN                   NaN   \n",
              "\n",
              "id                AVpfrgjFLJeJML43BvCc  AVpfsQoeilAPnD_xgfx5  \\\n",
              "reviews_username                                               \n",
              "joshua                             NaN                   NaN   \n",
              "\n",
              "id                AVpfshNsLJeJML43CB8q  AVpfthSailAPnD_xg3ON  \\\n",
              "reviews_username                                               \n",
              "joshua                             NaN                   NaN   \n",
              "\n",
              "id                AVpftikC1cnluZ0-p31V  AVpftymALJeJML43CZ6y  \\\n",
              "reviews_username                                               \n",
              "joshua                             NaN                   NaN   \n",
              "\n",
              "id                AVpfv4TlilAPnD_xhjNS  AVpfvieo1cnluZ0-qdnu  \n",
              "reviews_username                                              \n",
              "joshua                             NaN                   NaN  \n",
              "\n",
              "[1 rows x 253 columns]"
            ]
          },
          "metadata": {},
          "execution_count": 41
        }
      ]
    },
    {
      "cell_type": "code",
      "source": [
        "#normalizing ratings in trainind data for adjusted cosine calculation\n",
        "mean = np.nanmean(pd_pivot, axis=1)\n",
        "pd_subtracted = (pd_pivot.T-mean).T"
      ],
      "metadata": {
        "id": "eueQAQ1alU1F"
      },
      "execution_count": 42,
      "outputs": []
    },
    {
      "cell_type": "code",
      "source": [
        "# display an example row after normalization\n",
        "pd_subtracted[~pd_subtracted['AV13O1A8GV-KLJ3akUyj'].isna()].head()"
      ],
      "metadata": {
        "colab": {
          "base_uri": "https://localhost:8080/",
          "height": 240
        },
        "id": "YdSQYvcMl08Z",
        "outputId": "98c235a3-64d7-4509-b56f-daf19a45e745"
      },
      "execution_count": 43,
      "outputs": [
        {
          "output_type": "execute_result",
          "data": {
            "text/html": [
              "\n",
              "  <div id=\"df-66b11965-53e8-4c0a-a5c1-e31a7ce4ea46\">\n",
              "    <div class=\"colab-df-container\">\n",
              "      <div>\n",
              "<style scoped>\n",
              "    .dataframe tbody tr th:only-of-type {\n",
              "        vertical-align: middle;\n",
              "    }\n",
              "\n",
              "    .dataframe tbody tr th {\n",
              "        vertical-align: top;\n",
              "    }\n",
              "\n",
              "    .dataframe thead th {\n",
              "        text-align: right;\n",
              "    }\n",
              "</style>\n",
              "<table border=\"1\" class=\"dataframe\">\n",
              "  <thead>\n",
              "    <tr style=\"text-align: right;\">\n",
              "      <th>id</th>\n",
              "      <th>AV13O1A8GV-KLJ3akUyj</th>\n",
              "      <th>AV14LG0R-jtxr-f38QfS</th>\n",
              "      <th>AV16khLE-jtxr-f38VFn</th>\n",
              "      <th>AV1YGDqsGV-KLJ3adc-O</th>\n",
              "      <th>AV1YlENIglJLPUi8IHsX</th>\n",
              "      <th>AV1YmBrdGV-KLJ3adewb</th>\n",
              "      <th>AV1YmDL9vKc47QAVgr7_</th>\n",
              "      <th>AV1Ymf_rglJLPUi8II2v</th>\n",
              "      <th>AV1Yn94nvKc47QAVgtst</th>\n",
              "      <th>AV1YnUMYglJLPUi8IJpK</th>\n",
              "      <th>...</th>\n",
              "      <th>AVpfrTyiLJeJML43BrSI</th>\n",
              "      <th>AVpfrfHF1cnluZ0-pRai</th>\n",
              "      <th>AVpfrgjFLJeJML43BvCc</th>\n",
              "      <th>AVpfsQoeilAPnD_xgfx5</th>\n",
              "      <th>AVpfshNsLJeJML43CB8q</th>\n",
              "      <th>AVpfthSailAPnD_xg3ON</th>\n",
              "      <th>AVpftikC1cnluZ0-p31V</th>\n",
              "      <th>AVpftymALJeJML43CZ6y</th>\n",
              "      <th>AVpfv4TlilAPnD_xhjNS</th>\n",
              "      <th>AVpfvieo1cnluZ0-qdnu</th>\n",
              "    </tr>\n",
              "    <tr>\n",
              "      <th>reviews_username</th>\n",
              "      <th></th>\n",
              "      <th></th>\n",
              "      <th></th>\n",
              "      <th></th>\n",
              "      <th></th>\n",
              "      <th></th>\n",
              "      <th></th>\n",
              "      <th></th>\n",
              "      <th></th>\n",
              "      <th></th>\n",
              "      <th></th>\n",
              "      <th></th>\n",
              "      <th></th>\n",
              "      <th></th>\n",
              "      <th></th>\n",
              "      <th></th>\n",
              "      <th></th>\n",
              "      <th></th>\n",
              "      <th></th>\n",
              "      <th></th>\n",
              "      <th></th>\n",
              "    </tr>\n",
              "  </thead>\n",
              "  <tbody>\n",
              "    <tr>\n",
              "      <th>joshua</th>\n",
              "      <td>0.6</td>\n",
              "      <td>NaN</td>\n",
              "      <td>NaN</td>\n",
              "      <td>NaN</td>\n",
              "      <td>NaN</td>\n",
              "      <td>NaN</td>\n",
              "      <td>NaN</td>\n",
              "      <td>NaN</td>\n",
              "      <td>NaN</td>\n",
              "      <td>NaN</td>\n",
              "      <td>...</td>\n",
              "      <td>NaN</td>\n",
              "      <td>NaN</td>\n",
              "      <td>NaN</td>\n",
              "      <td>NaN</td>\n",
              "      <td>NaN</td>\n",
              "      <td>NaN</td>\n",
              "      <td>NaN</td>\n",
              "      <td>NaN</td>\n",
              "      <td>NaN</td>\n",
              "      <td>NaN</td>\n",
              "    </tr>\n",
              "  </tbody>\n",
              "</table>\n",
              "<p>1 rows × 253 columns</p>\n",
              "</div>\n",
              "      <button class=\"colab-df-convert\" onclick=\"convertToInteractive('df-66b11965-53e8-4c0a-a5c1-e31a7ce4ea46')\"\n",
              "              title=\"Convert this dataframe to an interactive table.\"\n",
              "              style=\"display:none;\">\n",
              "        \n",
              "  <svg xmlns=\"http://www.w3.org/2000/svg\" height=\"24px\"viewBox=\"0 0 24 24\"\n",
              "       width=\"24px\">\n",
              "    <path d=\"M0 0h24v24H0V0z\" fill=\"none\"/>\n",
              "    <path d=\"M18.56 5.44l.94 2.06.94-2.06 2.06-.94-2.06-.94-.94-2.06-.94 2.06-2.06.94zm-11 1L8.5 8.5l.94-2.06 2.06-.94-2.06-.94L8.5 2.5l-.94 2.06-2.06.94zm10 10l.94 2.06.94-2.06 2.06-.94-2.06-.94-.94-2.06-.94 2.06-2.06.94z\"/><path d=\"M17.41 7.96l-1.37-1.37c-.4-.4-.92-.59-1.43-.59-.52 0-1.04.2-1.43.59L10.3 9.45l-7.72 7.72c-.78.78-.78 2.05 0 2.83L4 21.41c.39.39.9.59 1.41.59.51 0 1.02-.2 1.41-.59l7.78-7.78 2.81-2.81c.8-.78.8-2.07 0-2.86zM5.41 20L4 18.59l7.72-7.72 1.47 1.35L5.41 20z\"/>\n",
              "  </svg>\n",
              "      </button>\n",
              "      \n",
              "  <style>\n",
              "    .colab-df-container {\n",
              "      display:flex;\n",
              "      flex-wrap:wrap;\n",
              "      gap: 12px;\n",
              "    }\n",
              "\n",
              "    .colab-df-convert {\n",
              "      background-color: #E8F0FE;\n",
              "      border: none;\n",
              "      border-radius: 50%;\n",
              "      cursor: pointer;\n",
              "      display: none;\n",
              "      fill: #1967D2;\n",
              "      height: 32px;\n",
              "      padding: 0 0 0 0;\n",
              "      width: 32px;\n",
              "    }\n",
              "\n",
              "    .colab-df-convert:hover {\n",
              "      background-color: #E2EBFA;\n",
              "      box-shadow: 0px 1px 2px rgba(60, 64, 67, 0.3), 0px 1px 3px 1px rgba(60, 64, 67, 0.15);\n",
              "      fill: #174EA6;\n",
              "    }\n",
              "\n",
              "    [theme=dark] .colab-df-convert {\n",
              "      background-color: #3B4455;\n",
              "      fill: #D2E3FC;\n",
              "    }\n",
              "\n",
              "    [theme=dark] .colab-df-convert:hover {\n",
              "      background-color: #434B5C;\n",
              "      box-shadow: 0px 1px 3px 1px rgba(0, 0, 0, 0.15);\n",
              "      filter: drop-shadow(0px 1px 2px rgba(0, 0, 0, 0.3));\n",
              "      fill: #FFFFFF;\n",
              "    }\n",
              "  </style>\n",
              "\n",
              "      <script>\n",
              "        const buttonEl =\n",
              "          document.querySelector('#df-66b11965-53e8-4c0a-a5c1-e31a7ce4ea46 button.colab-df-convert');\n",
              "        buttonEl.style.display =\n",
              "          google.colab.kernel.accessAllowed ? 'block' : 'none';\n",
              "\n",
              "        async function convertToInteractive(key) {\n",
              "          const element = document.querySelector('#df-66b11965-53e8-4c0a-a5c1-e31a7ce4ea46');\n",
              "          const dataTable =\n",
              "            await google.colab.kernel.invokeFunction('convertToInteractive',\n",
              "                                                     [key], {});\n",
              "          if (!dataTable) return;\n",
              "\n",
              "          const docLinkHtml = 'Like what you see? Visit the ' +\n",
              "            '<a target=\"_blank\" href=https://colab.research.google.com/notebooks/data_table.ipynb>data table notebook</a>'\n",
              "            + ' to learn more about interactive tables.';\n",
              "          element.innerHTML = '';\n",
              "          dataTable['output_type'] = 'display_data';\n",
              "          await google.colab.output.renderOutput(dataTable, element);\n",
              "          const docLink = document.createElement('div');\n",
              "          docLink.innerHTML = docLinkHtml;\n",
              "          element.appendChild(docLink);\n",
              "        }\n",
              "      </script>\n",
              "    </div>\n",
              "  </div>\n",
              "  "
            ],
            "text/plain": [
              "id                AV13O1A8GV-KLJ3akUyj  AV14LG0R-jtxr-f38QfS  \\\n",
              "reviews_username                                               \n",
              "joshua                             0.6                   NaN   \n",
              "\n",
              "id                AV16khLE-jtxr-f38VFn  AV1YGDqsGV-KLJ3adc-O  \\\n",
              "reviews_username                                               \n",
              "joshua                             NaN                   NaN   \n",
              "\n",
              "id                AV1YlENIglJLPUi8IHsX  AV1YmBrdGV-KLJ3adewb  \\\n",
              "reviews_username                                               \n",
              "joshua                             NaN                   NaN   \n",
              "\n",
              "id                AV1YmDL9vKc47QAVgr7_  AV1Ymf_rglJLPUi8II2v  \\\n",
              "reviews_username                                               \n",
              "joshua                             NaN                   NaN   \n",
              "\n",
              "id                AV1Yn94nvKc47QAVgtst  AV1YnUMYglJLPUi8IJpK  ...  \\\n",
              "reviews_username                                              ...   \n",
              "joshua                             NaN                   NaN  ...   \n",
              "\n",
              "id                AVpfrTyiLJeJML43BrSI  AVpfrfHF1cnluZ0-pRai  \\\n",
              "reviews_username                                               \n",
              "joshua                             NaN                   NaN   \n",
              "\n",
              "id                AVpfrgjFLJeJML43BvCc  AVpfsQoeilAPnD_xgfx5  \\\n",
              "reviews_username                                               \n",
              "joshua                             NaN                   NaN   \n",
              "\n",
              "id                AVpfshNsLJeJML43CB8q  AVpfthSailAPnD_xg3ON  \\\n",
              "reviews_username                                               \n",
              "joshua                             NaN                   NaN   \n",
              "\n",
              "id                AVpftikC1cnluZ0-p31V  AVpftymALJeJML43CZ6y  \\\n",
              "reviews_username                                               \n",
              "joshua                             NaN                   NaN   \n",
              "\n",
              "id                AVpfv4TlilAPnD_xhjNS  AVpfvieo1cnluZ0-qdnu  \n",
              "reviews_username                                              \n",
              "joshua                             NaN                   NaN  \n",
              "\n",
              "[1 rows x 253 columns]"
            ]
          },
          "metadata": {},
          "execution_count": 43
        }
      ]
    },
    {
      "cell_type": "code",
      "source": [
        "# calculating user-user similarity matrix\n",
        "from sklearn.metrics.pairwise import pairwise_distances\n",
        "\n",
        "user_correlation = 1- pairwise_distances(pd_subtracted.fillna(0), metric='cosine')\n",
        "user_correlation[np.isnan(user_correlation)] = 0\n",
        "\n",
        "#cap any negative values to zero\n",
        "user_correlation[user_correlation<0]=0\n",
        "\n",
        "#apply a dot product between similarity matrix and user rating data to predict user level product rating\n",
        "user_predicted_ratings = np.dot(user_correlation, pd_pivot.fillna(0))\n",
        "\n",
        "# create a dummy train data to have 0 as rating where user has given a rating else 1, this will help in predicting and testing the model for the products where user has not provided a product rating.\n",
        "dummy_train = train.copy().fillna(0)\n",
        "dummy_train['reviews_rating'] = dummy_train['reviews_rating'].apply(lambda x: 0 if x>=1 else 1)\n",
        "dummy_train = dummy_train.pivot(index='reviews_username', columns='id', values='reviews_rating').fillna(1)\n",
        "\n",
        "#multiply with dummy train to only get predicted ratings where user has not given a rating\n",
        "user_final_rating = np.multiply(user_predicted_ratings,dummy_train)\n",
        "\n",
        "#print top5 recommendation results for a sample user\n",
        "print(user_final_rating.loc['joshua'].sort_values(ascending=False)[0:5])"
      ],
      "metadata": {
        "colab": {
          "base_uri": "https://localhost:8080/"
        },
        "id": "oUp2yrUrXAsT",
        "outputId": "1943ee51-df79-43ad-a20b-96d26d8d98b6"
      },
      "execution_count": 44,
      "outputs": [
        {
          "output_type": "stream",
          "name": "stdout",
          "text": [
            "id\n",
            "AVpe41TqilAPnD_xQH3d    5.782126\n",
            "AVpf3VOfilAPnD_xjpun    5.771157\n",
            "AVpf0eb2LJeJML43EVSt    5.258781\n",
            "AVpfPaoqLJeJML435Xk9    4.475604\n",
            "AVpe59io1cnluZ0-ZgDU    4.115405\n",
            "Name: joshua, dtype: float64\n"
          ]
        }
      ]
    },
    {
      "cell_type": "code",
      "source": [
        "#Evaluating the model\n",
        "from sklearn.preprocessing import MinMaxScaler\n",
        "from numpy import *\n",
        "\n",
        "#for model evaluation we need common users between train and test, we will make predictions on train and calculate a rmse w.r.t actual ratings in test\n",
        "common = test[test.reviews_username.isin(train.reviews_username)]\n",
        "common_user_based_matrix = common.pivot_table(index='reviews_username', columns='id', values='reviews_rating')\n",
        "\n",
        "# converting similarity matrix to pandas dataframe and renaming columns as per user list\n",
        "user_correlation_df = pd.DataFrame(user_correlation) \n",
        "user_correlation_df['reviews_username'] = pd_subtracted.index\n",
        "user_correlation_df.set_index('reviews_username', inplace= True)\n",
        "list_name = common.reviews_username.tolist()\n",
        "user_correlation_df.columns = pd_subtracted.index.tolist()\n",
        "\n",
        "#filter for only the common userids\n",
        "user_correlation_df_1 = user_correlation_df[user_correlation_df.index.isin(list_name)]\n",
        "user_correlation_df_2 = user_correlation_df_1.T[user_correlation_df_1.T.index.isin(list_name)]\n",
        "user_correlation_df_3 = user_correlation_df_2.T\n",
        "user_correlation_df_3[user_correlation_df_3<0] = 0\n",
        "\n",
        "#dot product to predict ratings\n",
        "common_user_predicted_ratings = np.dot(user_correlation_df_3, common_user_based_matrix.fillna(0))\n",
        "dummy_test = common.copy()\n",
        "dummy_test['reviews_rating'] = dummy_test['reviews_rating'].apply(lambda x: 1 if x >=1 else 0)\n",
        "dummy_test = dummy_test.pivot_table(index='reviews_username', columns='id', values='reviews_rating').fillna(0)\n",
        "common_user_predicted_ratings = np.multiply(common_user_predicted_ratings, dummy_test)\n",
        "\n",
        "common_user_predicted_ratings_1 = common_user_predicted_ratings.copy()\n",
        "common_user_predicted_ratings_1 = common_user_predicted_ratings_1[common_user_predicted_ratings_1>0]\n",
        "\n",
        "#for a fair comparison since we have used adjusted cosines for similarity calculation, we\n",
        "# also need to normalize it for the comparison data\n",
        "scaler = MinMaxScaler(feature_range=(1,5))\n",
        "scaler.fit(common_user_predicted_ratings_1)\n",
        "common_user_predicted_ratings_norm = scaler.transform(common_user_predicted_ratings_1)\n",
        "\n",
        "#calculate rmse for actual vs predicted rating in common data\n",
        "common_ = common.pivot_table(index='reviews_username', columns='id', values='reviews_rating')\n",
        "total_non_nan = np.count_nonzero(~np.isnan(common_user_predicted_ratings_norm))\n",
        "rmse  = (sum(sum((common_ - common_user_predicted_ratings_norm)**2))/total_non_nan)**0.5\n",
        "print(\"RMSE for user-user based recommendation system = {}\".format(rmse))\n"
      ],
      "metadata": {
        "id": "RPNcIkZrnErF",
        "colab": {
          "base_uri": "https://localhost:8080/"
        },
        "outputId": "82be2d9c-0e1a-40ca-cd6b-670e184ea763"
      },
      "execution_count": 45,
      "outputs": [
        {
          "output_type": "stream",
          "name": "stdout",
          "text": [
            "RMSE for user-user based recommendation system = 2.4749480007969487\n"
          ]
        }
      ]
    },
    {
      "cell_type": "markdown",
      "source": [
        "**Implementing Item-Item based recommendation system**"
      ],
      "metadata": {
        "id": "6gHRKEfXfm2h"
      }
    },
    {
      "cell_type": "code",
      "source": [
        "# pivot the data to create a productid vs user grid where each cell will represent the rating given by user to the product.\n",
        "pd_pivot = train.pivot(index='reviews_username', columns='id', values='reviews_rating').T\n",
        "pd_pivot.head()"
      ],
      "metadata": {
        "colab": {
          "base_uri": "https://localhost:8080/",
          "height": 267
        },
        "id": "swdYwo3qftpK",
        "outputId": "016a1073-3ced-413b-c4ba-c495e12737af"
      },
      "execution_count": 46,
      "outputs": [
        {
          "output_type": "execute_result",
          "data": {
            "text/html": [
              "\n",
              "  <div id=\"df-37150491-0c83-46dc-8458-f95898033cb9\">\n",
              "    <div class=\"colab-df-container\">\n",
              "      <div>\n",
              "<style scoped>\n",
              "    .dataframe tbody tr th:only-of-type {\n",
              "        vertical-align: middle;\n",
              "    }\n",
              "\n",
              "    .dataframe tbody tr th {\n",
              "        vertical-align: top;\n",
              "    }\n",
              "\n",
              "    .dataframe thead th {\n",
              "        text-align: right;\n",
              "    }\n",
              "</style>\n",
              "<table border=\"1\" class=\"dataframe\">\n",
              "  <thead>\n",
              "    <tr style=\"text-align: right;\">\n",
              "      <th>reviews_username</th>\n",
              "      <th>00sab00</th>\n",
              "      <th>01impala</th>\n",
              "      <th>02dakota</th>\n",
              "      <th>02deuce</th>\n",
              "      <th>06stidriver</th>\n",
              "      <th>08dallas</th>\n",
              "      <th>09mommy11</th>\n",
              "      <th>1085</th>\n",
              "      <th>10ten</th>\n",
              "      <th>11111111aaaaaaaaaaaaaaaaa</th>\n",
              "      <th>...</th>\n",
              "      <th>zozo0o</th>\n",
              "      <th>zsarah</th>\n",
              "      <th>zsazsa</th>\n",
              "      <th>zt313</th>\n",
              "      <th>zubb</th>\n",
              "      <th>zuttle</th>\n",
              "      <th>zwithanx</th>\n",
              "      <th>zxjki</th>\n",
              "      <th>zyiah4</th>\n",
              "      <th>zzdiane</th>\n",
              "    </tr>\n",
              "    <tr>\n",
              "      <th>id</th>\n",
              "      <th></th>\n",
              "      <th></th>\n",
              "      <th></th>\n",
              "      <th></th>\n",
              "      <th></th>\n",
              "      <th></th>\n",
              "      <th></th>\n",
              "      <th></th>\n",
              "      <th></th>\n",
              "      <th></th>\n",
              "      <th></th>\n",
              "      <th></th>\n",
              "      <th></th>\n",
              "      <th></th>\n",
              "      <th></th>\n",
              "      <th></th>\n",
              "      <th></th>\n",
              "      <th></th>\n",
              "      <th></th>\n",
              "      <th></th>\n",
              "      <th></th>\n",
              "    </tr>\n",
              "  </thead>\n",
              "  <tbody>\n",
              "    <tr>\n",
              "      <th>AV13O1A8GV-KLJ3akUyj</th>\n",
              "      <td>NaN</td>\n",
              "      <td>NaN</td>\n",
              "      <td>NaN</td>\n",
              "      <td>NaN</td>\n",
              "      <td>NaN</td>\n",
              "      <td>NaN</td>\n",
              "      <td>NaN</td>\n",
              "      <td>NaN</td>\n",
              "      <td>NaN</td>\n",
              "      <td>NaN</td>\n",
              "      <td>...</td>\n",
              "      <td>NaN</td>\n",
              "      <td>NaN</td>\n",
              "      <td>NaN</td>\n",
              "      <td>NaN</td>\n",
              "      <td>NaN</td>\n",
              "      <td>NaN</td>\n",
              "      <td>NaN</td>\n",
              "      <td>NaN</td>\n",
              "      <td>NaN</td>\n",
              "      <td>NaN</td>\n",
              "    </tr>\n",
              "    <tr>\n",
              "      <th>AV14LG0R-jtxr-f38QfS</th>\n",
              "      <td>NaN</td>\n",
              "      <td>NaN</td>\n",
              "      <td>NaN</td>\n",
              "      <td>NaN</td>\n",
              "      <td>NaN</td>\n",
              "      <td>NaN</td>\n",
              "      <td>NaN</td>\n",
              "      <td>NaN</td>\n",
              "      <td>NaN</td>\n",
              "      <td>NaN</td>\n",
              "      <td>...</td>\n",
              "      <td>NaN</td>\n",
              "      <td>NaN</td>\n",
              "      <td>NaN</td>\n",
              "      <td>NaN</td>\n",
              "      <td>NaN</td>\n",
              "      <td>NaN</td>\n",
              "      <td>NaN</td>\n",
              "      <td>NaN</td>\n",
              "      <td>NaN</td>\n",
              "      <td>NaN</td>\n",
              "    </tr>\n",
              "    <tr>\n",
              "      <th>AV16khLE-jtxr-f38VFn</th>\n",
              "      <td>NaN</td>\n",
              "      <td>NaN</td>\n",
              "      <td>NaN</td>\n",
              "      <td>NaN</td>\n",
              "      <td>NaN</td>\n",
              "      <td>NaN</td>\n",
              "      <td>NaN</td>\n",
              "      <td>NaN</td>\n",
              "      <td>NaN</td>\n",
              "      <td>NaN</td>\n",
              "      <td>...</td>\n",
              "      <td>NaN</td>\n",
              "      <td>NaN</td>\n",
              "      <td>NaN</td>\n",
              "      <td>NaN</td>\n",
              "      <td>NaN</td>\n",
              "      <td>NaN</td>\n",
              "      <td>NaN</td>\n",
              "      <td>NaN</td>\n",
              "      <td>NaN</td>\n",
              "      <td>NaN</td>\n",
              "    </tr>\n",
              "    <tr>\n",
              "      <th>AV1YGDqsGV-KLJ3adc-O</th>\n",
              "      <td>NaN</td>\n",
              "      <td>NaN</td>\n",
              "      <td>NaN</td>\n",
              "      <td>NaN</td>\n",
              "      <td>NaN</td>\n",
              "      <td>NaN</td>\n",
              "      <td>NaN</td>\n",
              "      <td>NaN</td>\n",
              "      <td>NaN</td>\n",
              "      <td>NaN</td>\n",
              "      <td>...</td>\n",
              "      <td>NaN</td>\n",
              "      <td>NaN</td>\n",
              "      <td>NaN</td>\n",
              "      <td>NaN</td>\n",
              "      <td>NaN</td>\n",
              "      <td>NaN</td>\n",
              "      <td>NaN</td>\n",
              "      <td>NaN</td>\n",
              "      <td>NaN</td>\n",
              "      <td>NaN</td>\n",
              "    </tr>\n",
              "    <tr>\n",
              "      <th>AV1YlENIglJLPUi8IHsX</th>\n",
              "      <td>NaN</td>\n",
              "      <td>NaN</td>\n",
              "      <td>NaN</td>\n",
              "      <td>NaN</td>\n",
              "      <td>NaN</td>\n",
              "      <td>NaN</td>\n",
              "      <td>NaN</td>\n",
              "      <td>NaN</td>\n",
              "      <td>NaN</td>\n",
              "      <td>NaN</td>\n",
              "      <td>...</td>\n",
              "      <td>NaN</td>\n",
              "      <td>NaN</td>\n",
              "      <td>NaN</td>\n",
              "      <td>NaN</td>\n",
              "      <td>NaN</td>\n",
              "      <td>NaN</td>\n",
              "      <td>NaN</td>\n",
              "      <td>NaN</td>\n",
              "      <td>NaN</td>\n",
              "      <td>NaN</td>\n",
              "    </tr>\n",
              "  </tbody>\n",
              "</table>\n",
              "<p>5 rows × 17841 columns</p>\n",
              "</div>\n",
              "      <button class=\"colab-df-convert\" onclick=\"convertToInteractive('df-37150491-0c83-46dc-8458-f95898033cb9')\"\n",
              "              title=\"Convert this dataframe to an interactive table.\"\n",
              "              style=\"display:none;\">\n",
              "        \n",
              "  <svg xmlns=\"http://www.w3.org/2000/svg\" height=\"24px\"viewBox=\"0 0 24 24\"\n",
              "       width=\"24px\">\n",
              "    <path d=\"M0 0h24v24H0V0z\" fill=\"none\"/>\n",
              "    <path d=\"M18.56 5.44l.94 2.06.94-2.06 2.06-.94-2.06-.94-.94-2.06-.94 2.06-2.06.94zm-11 1L8.5 8.5l.94-2.06 2.06-.94-2.06-.94L8.5 2.5l-.94 2.06-2.06.94zm10 10l.94 2.06.94-2.06 2.06-.94-2.06-.94-.94-2.06-.94 2.06-2.06.94z\"/><path d=\"M17.41 7.96l-1.37-1.37c-.4-.4-.92-.59-1.43-.59-.52 0-1.04.2-1.43.59L10.3 9.45l-7.72 7.72c-.78.78-.78 2.05 0 2.83L4 21.41c.39.39.9.59 1.41.59.51 0 1.02-.2 1.41-.59l7.78-7.78 2.81-2.81c.8-.78.8-2.07 0-2.86zM5.41 20L4 18.59l7.72-7.72 1.47 1.35L5.41 20z\"/>\n",
              "  </svg>\n",
              "      </button>\n",
              "      \n",
              "  <style>\n",
              "    .colab-df-container {\n",
              "      display:flex;\n",
              "      flex-wrap:wrap;\n",
              "      gap: 12px;\n",
              "    }\n",
              "\n",
              "    .colab-df-convert {\n",
              "      background-color: #E8F0FE;\n",
              "      border: none;\n",
              "      border-radius: 50%;\n",
              "      cursor: pointer;\n",
              "      display: none;\n",
              "      fill: #1967D2;\n",
              "      height: 32px;\n",
              "      padding: 0 0 0 0;\n",
              "      width: 32px;\n",
              "    }\n",
              "\n",
              "    .colab-df-convert:hover {\n",
              "      background-color: #E2EBFA;\n",
              "      box-shadow: 0px 1px 2px rgba(60, 64, 67, 0.3), 0px 1px 3px 1px rgba(60, 64, 67, 0.15);\n",
              "      fill: #174EA6;\n",
              "    }\n",
              "\n",
              "    [theme=dark] .colab-df-convert {\n",
              "      background-color: #3B4455;\n",
              "      fill: #D2E3FC;\n",
              "    }\n",
              "\n",
              "    [theme=dark] .colab-df-convert:hover {\n",
              "      background-color: #434B5C;\n",
              "      box-shadow: 0px 1px 3px 1px rgba(0, 0, 0, 0.15);\n",
              "      filter: drop-shadow(0px 1px 2px rgba(0, 0, 0, 0.3));\n",
              "      fill: #FFFFFF;\n",
              "    }\n",
              "  </style>\n",
              "\n",
              "      <script>\n",
              "        const buttonEl =\n",
              "          document.querySelector('#df-37150491-0c83-46dc-8458-f95898033cb9 button.colab-df-convert');\n",
              "        buttonEl.style.display =\n",
              "          google.colab.kernel.accessAllowed ? 'block' : 'none';\n",
              "\n",
              "        async function convertToInteractive(key) {\n",
              "          const element = document.querySelector('#df-37150491-0c83-46dc-8458-f95898033cb9');\n",
              "          const dataTable =\n",
              "            await google.colab.kernel.invokeFunction('convertToInteractive',\n",
              "                                                     [key], {});\n",
              "          if (!dataTable) return;\n",
              "\n",
              "          const docLinkHtml = 'Like what you see? Visit the ' +\n",
              "            '<a target=\"_blank\" href=https://colab.research.google.com/notebooks/data_table.ipynb>data table notebook</a>'\n",
              "            + ' to learn more about interactive tables.';\n",
              "          element.innerHTML = '';\n",
              "          dataTable['output_type'] = 'display_data';\n",
              "          await google.colab.output.renderOutput(dataTable, element);\n",
              "          const docLink = document.createElement('div');\n",
              "          docLink.innerHTML = docLinkHtml;\n",
              "          element.appendChild(docLink);\n",
              "        }\n",
              "      </script>\n",
              "    </div>\n",
              "  </div>\n",
              "  "
            ],
            "text/plain": [
              "reviews_username      00sab00  01impala  02dakota  02deuce  06stidriver  \\\n",
              "id                                                                        \n",
              "AV13O1A8GV-KLJ3akUyj      NaN       NaN       NaN      NaN          NaN   \n",
              "AV14LG0R-jtxr-f38QfS      NaN       NaN       NaN      NaN          NaN   \n",
              "AV16khLE-jtxr-f38VFn      NaN       NaN       NaN      NaN          NaN   \n",
              "AV1YGDqsGV-KLJ3adc-O      NaN       NaN       NaN      NaN          NaN   \n",
              "AV1YlENIglJLPUi8IHsX      NaN       NaN       NaN      NaN          NaN   \n",
              "\n",
              "reviews_username      08dallas  09mommy11  1085  10ten  \\\n",
              "id                                                       \n",
              "AV13O1A8GV-KLJ3akUyj       NaN        NaN   NaN    NaN   \n",
              "AV14LG0R-jtxr-f38QfS       NaN        NaN   NaN    NaN   \n",
              "AV16khLE-jtxr-f38VFn       NaN        NaN   NaN    NaN   \n",
              "AV1YGDqsGV-KLJ3adc-O       NaN        NaN   NaN    NaN   \n",
              "AV1YlENIglJLPUi8IHsX       NaN        NaN   NaN    NaN   \n",
              "\n",
              "reviews_username      11111111aaaaaaaaaaaaaaaaa  ...  zozo0o  zsarah  zsazsa  \\\n",
              "id                                               ...                           \n",
              "AV13O1A8GV-KLJ3akUyj                        NaN  ...     NaN     NaN     NaN   \n",
              "AV14LG0R-jtxr-f38QfS                        NaN  ...     NaN     NaN     NaN   \n",
              "AV16khLE-jtxr-f38VFn                        NaN  ...     NaN     NaN     NaN   \n",
              "AV1YGDqsGV-KLJ3adc-O                        NaN  ...     NaN     NaN     NaN   \n",
              "AV1YlENIglJLPUi8IHsX                        NaN  ...     NaN     NaN     NaN   \n",
              "\n",
              "reviews_username      zt313  zubb  zuttle  zwithanx  zxjki  zyiah4  zzdiane  \n",
              "id                                                                           \n",
              "AV13O1A8GV-KLJ3akUyj    NaN   NaN     NaN       NaN    NaN     NaN      NaN  \n",
              "AV14LG0R-jtxr-f38QfS    NaN   NaN     NaN       NaN    NaN     NaN      NaN  \n",
              "AV16khLE-jtxr-f38VFn    NaN   NaN     NaN       NaN    NaN     NaN      NaN  \n",
              "AV1YGDqsGV-KLJ3adc-O    NaN   NaN     NaN       NaN    NaN     NaN      NaN  \n",
              "AV1YlENIglJLPUi8IHsX    NaN   NaN     NaN       NaN    NaN     NaN      NaN  \n",
              "\n",
              "[5 rows x 17841 columns]"
            ]
          },
          "metadata": {},
          "execution_count": 46
        }
      ]
    },
    {
      "cell_type": "code",
      "source": [
        "#normalizing ratings in trainind data for adjusted cosine calculation\n",
        "mean = np.nanmean(pd_pivot, axis=1)\n",
        "pd_subtracted = (pd_pivot.T-mean).T"
      ],
      "metadata": {
        "id": "Sa0xbVMighMN"
      },
      "execution_count": 47,
      "outputs": []
    },
    {
      "cell_type": "code",
      "source": [
        "# calculating item-item similarity matrix\n",
        "from sklearn.metrics.pairwise import pairwise_distances\n",
        "\n",
        "item_correlation = 1- pairwise_distances(pd_subtracted.fillna(0), metric='cosine')\n",
        "item_correlation[np.isnan(item_correlation)] = 0\n",
        "\n",
        "#cap any negative values to zero\n",
        "item_correlation[item_correlation<0]=0\n",
        "\n",
        "#apply a dot product between similarity matrix and item rating data to predict item level rating\n",
        "item_predicted_ratings = np.dot(pd_pivot.fillna(0).T, item_correlation)\n",
        "\n",
        "# create a dummy train data to have 0 as rating where user has given a rating else 1, this will help in predicting and testing the model for the products where user has not provided a product rating.\n",
        "dummy_train = train.copy().fillna(0)\n",
        "dummy_train['reviews_rating'] = dummy_train['reviews_rating'].apply(lambda x: 0 if x>=1 else 1)\n",
        "dummy_train = dummy_train.pivot(index='reviews_username', columns='id', values='reviews_rating').fillna(1)\n",
        "\n",
        "#multiply with dummy train to only get predicted ratings where user has not given a rating\n",
        "item_final_rating = np.multiply(item_predicted_ratings,dummy_train)\n",
        "\n",
        "#print top5 recommendation results for a sample user\n",
        "print(item_final_rating.loc['joshua'].sort_values(ascending=False)[0:5])"
      ],
      "metadata": {
        "colab": {
          "base_uri": "https://localhost:8080/"
        },
        "id": "kd6jiEGNgscz",
        "outputId": "99e761cc-0212-4eef-b0a3-0ccaa0dbd9fc"
      },
      "execution_count": 48,
      "outputs": [
        {
          "output_type": "stream",
          "name": "stdout",
          "text": [
            "id\n",
            "AVpf5olc1cnluZ0-tPrO    0.222675\n",
            "AVpe_dxlilAPnD_xSiHI    0.139835\n",
            "AVpfrgjFLJeJML43BvCc    0.054951\n",
            "AVpfR5m0LJeJML436K3W    0.046449\n",
            "AVpfozgyilAPnD_xfe0r    0.045992\n",
            "Name: joshua, dtype: float64\n"
          ]
        }
      ]
    },
    {
      "cell_type": "code",
      "source": [
        "#Evaluating the model\n",
        "from sklearn.preprocessing import MinMaxScaler\n",
        "from numpy import *\n",
        "\n",
        "#for model evaluation we need common users between train and test, we will make predictions on train and calculate a rmse w.r.t actual ratings in test\n",
        "common = test[test.id.isin(train.id)]\n",
        "common_item_based_matrix = common.pivot_table(index='reviews_username', columns='id', values='reviews_rating').T\n",
        "\n",
        "# converting similarity matrix to pandas dataframe and renaming columns as per user list\n",
        "item_correlation_df = pd.DataFrame(item_correlation) \n",
        "item_correlation_df['id'] = pd_subtracted.index\n",
        "item_correlation_df.set_index('id', inplace= True)\n",
        "list_name = common.id.tolist()\n",
        "item_correlation_df.columns = pd_subtracted.index.tolist()\n",
        "\n",
        "#filter for only the common item ids\n",
        "item_correlation_df_1 = item_correlation_df[item_correlation_df.index.isin(list_name)]\n",
        "item_correlation_df_2 = item_correlation_df_1.T[item_correlation_df_1.T.index.isin(list_name)]\n",
        "item_correlation_df_3 = item_correlation_df_2.T\n",
        "item_correlation_df_3[item_correlation_df_3<0] = 0\n",
        "\n",
        "#dot product to predict ratings\n",
        "common_item_predicted_ratings = np.dot(item_correlation_df_3, common_item_based_matrix.fillna(0))\n",
        "dummy_test = common.copy()\n",
        "dummy_test['reviews_rating'] = dummy_test['reviews_rating'].apply(lambda x: 1 if x >=1 else 0)\n",
        "dummy_test = dummy_test.pivot_table(index='reviews_username', columns='id', values='reviews_rating').T.fillna(0)\n",
        "common_item_predicted_ratings = np.multiply(common_item_predicted_ratings, dummy_test)\n",
        "\n",
        "common_item_predicted_ratings_1 = common_item_predicted_ratings.copy()\n",
        "common_item_predicted_ratings_1 = common_item_predicted_ratings_1[common_item_predicted_ratings_1>0]\n",
        "\n",
        "#for a fair comparison since we have used adjusted cosines for similarity calculation, we\n",
        "# also need to normalize it for the comparison data\n",
        "scaler = MinMaxScaler(feature_range=(1,5))\n",
        "scaler.fit(common_item_predicted_ratings_1)\n",
        "common_item_predicted_ratings_norm = scaler.transform(common_item_predicted_ratings_1)\n",
        "\n",
        "#calculate rmse for actual vs predicted rating in common data\n",
        "common_ = common.pivot_table(index='reviews_username', columns='id', values='reviews_rating').T\n",
        "total_non_nan = np.count_nonzero(~np.isnan(common_item_predicted_ratings_norm))\n",
        "rmse  = (sum(sum((common_ - common_item_predicted_ratings_norm)**2))/total_non_nan)**0.5\n",
        "print(\"RMSE for item-item based recommendation system = {}\".format(rmse))\n"
      ],
      "metadata": {
        "colab": {
          "base_uri": "https://localhost:8080/"
        },
        "id": "mPR3oJY9iR4Z",
        "outputId": "f6337303-335e-4021-e08f-06a13810b026"
      },
      "execution_count": 49,
      "outputs": [
        {
          "output_type": "stream",
          "name": "stdout",
          "text": [
            "RMSE for item-item based recommendation system = 3.5978277979201274\n"
          ]
        }
      ]
    },
    {
      "cell_type": "markdown",
      "source": [
        "### **Now we will select the deep learning based sentiment analysis model and user-user based recommendation system and save them to disk for usage in flask app**"
      ],
      "metadata": {
        "id": "QPayfBxbUGge"
      }
    },
    {
      "cell_type": "code",
      "source": [
        "import pickle\n",
        "\n",
        "# save the recommendation model to disk\n",
        "with open('/content/drive/MyDrive/recomm.pickle', 'wb') as handle:\n",
        "    pickle.dump(user_final_rating, handle, protocol=pickle.HIGHEST_PROTOCOL)\n",
        "\n",
        "# save the sentiment model to disk\n",
        "\n",
        "# tokenizer\n",
        "with open('/content/drive/MyDrive/tokenizer.pickle', 'wb') as handle:\n",
        "    pickle.dump(tokenizer, handle, protocol=pickle.HIGHEST_PROTOCOL)\n",
        "\n",
        "#TF model\n",
        "model.save('/content/drive/MyDrive/sentiment')\n"
      ],
      "metadata": {
        "id": "5vyivhbQU4TX"
      },
      "execution_count": 55,
      "outputs": []
    }
  ],
  "metadata": {
    "colab": {
      "collapsed_sections": [],
      "name": "Capstone.ipynb",
      "provenance": []
    },
    "kernelspec": {
      "display_name": "Python 3",
      "name": "python3"
    },
    "language_info": {
      "name": "python"
    }
  },
  "nbformat": 4,
  "nbformat_minor": 0
}